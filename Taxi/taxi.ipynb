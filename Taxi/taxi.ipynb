{
 "cells": [
  {
   "cell_type": "markdown",
   "metadata": {},
   "source": [
    "Esta notebook contiene bloques de código útiles para realizar Q-learning en el entorno \"Taxi\""
   ]
  },
  {
   "cell_type": "code",
<<<<<<< Updated upstream
   "execution_count": null,
=======
   "execution_count": 111,
>>>>>>> Stashed changes
   "metadata": {},
   "outputs": [],
   "source": [
    "import numpy as np\n",
    "import random\n",
    "from taxi_env_extended import TaxiEnvExtended"
   ]
  },
  {
   "cell_type": "code",
<<<<<<< Updated upstream
   "execution_count": null,
=======
   "execution_count": 112,
>>>>>>> Stashed changes
   "metadata": {},
   "outputs": [],
   "source": [
    "env = TaxiEnvExtended()"
   ]
  },
  {
   "cell_type": "code",
   "execution_count": 113,
   "metadata": {},
   "outputs": [
    {
     "data": {
      "text/plain": [
       "200"
      ]
     },
     "execution_count": 113,
     "metadata": {},
     "output_type": "execute_result"
    }
   ],
   "source": [
    "env.max_steps"
   ]
  },
  {
   "cell_type": "markdown",
   "metadata": {},
   "source": [
    "Obtener la cantidad de estados y acciones"
   ]
  },
  {
   "cell_type": "code",
<<<<<<< Updated upstream
   "execution_count": null,
=======
   "execution_count": 114,
>>>>>>> Stashed changes
   "metadata": {},
   "outputs": [],
   "source": [
    "actions = env.action_space.n\n",
    "states = env.observation_space.n"
   ]
  },
  {
   "cell_type": "code",
   "execution_count": 115,
   "metadata": {},
   "outputs": [
    {
     "data": {
      "text/plain": [
       "500"
      ]
     },
     "execution_count": 115,
     "metadata": {},
     "output_type": "execute_result"
    }
   ],
   "source": [
    "states"
   ]
  },
  {
   "cell_type": "markdown",
   "metadata": {},
   "source": [
    "Inicialización de la tabla Q"
   ]
  },
  {
   "cell_type": "code",
<<<<<<< Updated upstream
   "execution_count": null,
   "metadata": {},
   "outputs": [],
=======
   "execution_count": 116,
   "metadata": {},
   "outputs": [
    {
     "data": {
      "text/plain": [
       "array([[0., 0., 0., 0., 0., 0.],\n",
       "       [0., 0., 0., 0., 0., 0.],\n",
       "       [0., 0., 0., 0., 0., 0.],\n",
       "       ...,\n",
       "       [0., 0., 0., 0., 0., 0.],\n",
       "       [0., 0., 0., 0., 0., 0.],\n",
       "       [0., 0., 0., 0., 0., 0.]])"
      ]
     },
     "execution_count": 116,
     "metadata": {},
     "output_type": "execute_result"
    }
   ],
>>>>>>> Stashed changes
   "source": [
    "Q = np.zeros((states, actions))\n",
    "Q"
   ]
  },
  {
<<<<<<< Updated upstream
=======
   "cell_type": "code",
   "execution_count": 117,
   "metadata": {},
   "outputs": [
    {
     "data": {
      "text/plain": [
       "6"
      ]
     },
     "execution_count": 117,
     "metadata": {},
     "output_type": "execute_result"
    }
   ],
   "source": [
    "len(Q[0])"
   ]
  },
  {
>>>>>>> Stashed changes
   "cell_type": "markdown",
   "metadata": {},
   "source": [
    "Obtención de la acción a partir de la tabla Q"
   ]
  },
  {
   "cell_type": "code",
<<<<<<< Updated upstream
   "execution_count": null,
=======
   "execution_count": 118,
>>>>>>> Stashed changes
   "metadata": {},
   "outputs": [],
   "source": [
    "def optimal_policy(state, Q):\n",
    "    action = np.argmax(Q[state])\n",
    "    return action"
   ]
  },
  {
   "cell_type": "markdown",
   "metadata": {},
   "source": [
    "Epsilon-Greedy Policy"
   ]
  },
  {
   "cell_type": "code",
<<<<<<< Updated upstream
   "execution_count": null,
=======
   "execution_count": 119,
>>>>>>> Stashed changes
   "metadata": {},
   "outputs": [],
   "source": [
    "def epsilon_greedy_policy(state, Q, epsilon=0.1):\n",
    "    explore = np.random.binomial(1, epsilon)\n",
    "    if explore:\n",
    "        action = env.action_space.sample()\n",
    "        print('explore')\n",
    "    # exploit\n",
    "    else:\n",
    "        action = np.argmax(Q[state])\n",
    "        print('exploit')\n",
    "        \n",
    "    return action"
   ]
  },
  {
   "cell_type": "markdown",
   "metadata": {},
   "source": [
    "Ejemplo de episodio "
   ]
  },
  {
   "cell_type": "code",
<<<<<<< Updated upstream
   "execution_count": null,
   "metadata": {},
   "outputs": [],
=======
   "execution_count": 120,
   "metadata": {},
   "outputs": [
    {
     "name": "stdout",
     "output_type": "stream",
     "text": [
      "31\n",
      "-> 31 0 -1 131 False\n",
      "-> 131 0 -1 231 False\n",
      "-> 231 0 -1 331 False\n",
      "-> 331 1 -1 231 False\n",
      "-> 231 0 -1 331 False\n",
      "-> 331 0 -1 431 False\n",
      "-> 431 0 -1 431 False\n",
      "-> 431 0 -1 431 False\n",
      "-> 431 1 -1 331 False\n",
      "-> 331 0 -1 431 False\n",
      "-> 431 0 -1 431 False\n",
      "-> 431 4 -10 431 False\n",
      "-> 431 0 -1 431 False\n",
      "-> 431 0 -1 431 False\n",
      "-> 431 0 -1 431 False\n",
      "-> 431 0 -1 431 False\n",
      "-> 431 3 -1 431 False\n",
      "-> 431 0 -1 431 False\n",
      "-> 431 2 -1 451 False\n",
      "-> 451 4 -10 451 False\n",
      "-> 451 1 -1 351 False\n",
      "-> 351 0 -1 451 False\n",
      "-> 451 4 -10 451 False\n",
      "-> 451 0 -1 451 False\n",
      "-> 451 1 -1 351 False\n",
      "-> 351 5 -10 351 False\n",
      "-> 351 0 -1 451 False\n",
      "-> 451 4 -10 451 False\n",
      "-> 451 3 -1 431 False\n",
      "-> 431 0 -1 431 False\n",
      "-> 431 0 -1 431 False\n",
      "-> 431 2 -1 451 False\n",
      "-> 451 0 -1 451 False\n",
      "-> 451 0 -1 451 False\n",
      "-> 451 2 -1 451 False\n",
      "-> 451 4 -10 451 False\n",
      "-> 451 1 -1 351 False\n",
      "-> 351 4 -10 351 False\n",
      "-> 351 0 -1 451 False\n",
      "-> 451 3 -1 431 False\n",
      "-> 431 2 -1 451 False\n",
      "-> 451 0 -1 451 False\n",
      "-> 451 1 -1 351 False\n",
      "-> 351 5 -10 351 False\n",
      "-> 351 1 -1 251 False\n",
      "-> 251 0 -1 351 False\n",
      "-> 351 0 -1 451 False\n",
      "-> 451 5 -10 451 False\n",
      "-> 451 0 -1 451 False\n",
      "-> 451 4 -10 451 False\n",
      "-> 451 0 -1 451 False\n",
      "-> 451 2 -1 451 False\n",
      "-> 451 2 -1 451 False\n",
      "-> 451 3 -1 431 False\n",
      "-> 431 3 -1 431 False\n",
      "-> 431 0 -1 431 False\n",
      "-> 431 2 -1 451 False\n",
      "-> 451 2 -1 451 False\n",
      "-> 451 0 -1 451 False\n",
      "-> 451 0 -1 451 False\n",
      "-> 451 0 -1 451 False\n",
      "-> 451 1 -1 351 False\n",
      "-> 351 0 -1 451 False\n",
      "-> 451 5 -10 451 False\n",
      "-> 451 0 -1 451 False\n",
      "-> 451 2 -1 451 False\n",
      "-> 451 4 -10 451 False\n",
      "-> 451 0 -1 451 False\n",
      "-> 451 0 -1 451 False\n",
      "-> 451 0 -1 451 False\n",
      "-> 451 0 -1 451 False\n",
      "-> 451 0 -1 451 False\n",
      "-> 451 3 -1 431 False\n",
      "-> 431 1 -1 331 False\n",
      "-> 331 0 -1 431 False\n",
      "-> 431 0 -1 431 False\n",
      "-> 431 4 -10 431 False\n",
      "-> 431 0 -1 431 False\n",
      "-> 431 5 -10 431 False\n",
      "-> 431 0 -1 431 False\n",
      "-> 431 0 -1 431 False\n",
      "-> 431 0 -1 431 False\n",
      "-> 431 5 -10 431 False\n",
      "-> 431 5 -10 431 False\n",
      "-> 431 0 -1 431 False\n",
      "-> 431 0 -1 431 False\n",
      "-> 431 0 -1 431 False\n",
      "-> 431 0 -1 431 False\n",
      "-> 431 0 -1 431 False\n",
      "-> 431 5 -10 431 False\n",
      "-> 431 0 -1 431 False\n",
      "-> 431 0 -1 431 False\n",
      "-> 431 0 -1 431 False\n",
      "-> 431 0 -1 431 False\n",
      "-> 431 5 -10 431 False\n",
      "-> 431 0 -1 431 False\n",
      "-> 431 0 -1 431 False\n",
      "-> 431 2 -1 451 False\n",
      "-> 451 1 -1 351 False\n",
      "-> 351 1 -1 251 False\n",
      "-> 251 4 -10 251 False\n",
      "-> 251 0 -1 351 False\n",
      "-> 351 4 -10 351 False\n",
      "-> 351 5 -10 351 False\n",
      "-> 351 0 -1 451 False\n",
      "-> 451 4 -10 451 False\n",
      "-> 451 0 -1 451 False\n",
      "-> 451 2 -1 451 False\n",
      "-> 451 5 -10 451 False\n",
      "-> 451 0 -1 451 False\n",
      "-> 451 1 -1 351 False\n",
      "-> 351 0 -1 451 False\n",
      "-> 451 1 -1 351 False\n",
      "-> 351 0 -1 451 False\n",
      "-> 451 0 -1 451 False\n",
      "-> 451 0 -1 451 False\n",
      "-> 451 0 -1 451 False\n",
      "-> 451 0 -1 451 False\n",
      "-> 451 1 -1 351 False\n",
      "-> 351 0 -1 451 False\n",
      "-> 451 0 -1 451 False\n",
      "-> 451 4 -10 451 False\n",
      "-> 451 0 -1 451 False\n",
      "-> 451 0 -1 451 False\n",
      "-> 451 0 -1 451 False\n",
      "-> 451 0 -1 451 False\n",
      "-> 451 0 -1 451 False\n",
      "-> 451 2 -1 451 False\n",
      "-> 451 3 -1 431 False\n",
      "-> 431 5 -10 431 False\n",
      "-> 431 0 -1 431 False\n",
      "-> 431 0 -1 431 False\n",
      "-> 431 0 -1 431 False\n",
      "-> 431 2 -1 451 False\n",
      "-> 451 0 -1 451 False\n",
      "-> 451 1 -1 351 False\n",
      "-> 351 4 -10 351 False\n",
      "-> 351 1 -1 251 False\n",
      "-> 251 0 -1 351 False\n",
      "-> 351 1 -1 251 False\n",
      "-> 251 5 -10 251 False\n",
      "-> 251 0 -1 351 False\n",
      "-> 351 0 -1 451 False\n",
      "-> 451 0 -1 451 False\n",
      "-> 451 3 -1 431 False\n",
      "-> 431 0 -1 431 False\n",
      "-> 431 3 -1 431 False\n",
      "-> 431 0 -1 431 False\n",
      "-> 431 0 -1 431 False\n",
      "-> 431 0 -1 431 False\n",
      "-> 431 0 -1 431 False\n",
      "-> 431 2 -1 451 False\n",
      "-> 451 1 -1 351 False\n",
      "-> 351 5 -10 351 False\n",
      "-> 351 0 -1 451 False\n",
      "-> 451 0 -1 451 False\n",
      "-> 451 3 -1 431 False\n",
      "-> 431 0 -1 431 False\n",
      "-> 431 0 -1 431 False\n",
      "-> 431 0 -1 431 False\n",
      "-> 431 0 -1 431 False\n",
      "-> 431 0 -1 431 False\n",
      "-> 431 0 -1 431 False\n",
      "-> 431 0 -1 431 False\n",
      "-> 431 0 -1 431 False\n",
      "-> 431 0 -1 431 False\n",
      "-> 431 4 -10 431 False\n",
      "-> 431 0 -1 431 False\n",
      "-> 431 0 -1 431 False\n",
      "-> 431 0 -1 431 False\n",
      "-> 431 2 -1 451 False\n",
      "-> 451 0 -1 451 False\n",
      "-> 451 0 -1 451 False\n",
      "-> 451 0 -1 451 False\n",
      "-> 451 0 -1 451 False\n",
      "-> 451 3 -1 431 False\n",
      "-> 431 2 -1 451 False\n",
      "-> 451 5 -10 451 False\n",
      "-> 451 0 -1 451 False\n",
      "-> 451 0 -1 451 False\n",
      "-> 451 0 -1 451 False\n",
      "-> 451 0 -1 451 False\n",
      "-> 451 0 -1 451 False\n",
      "-> 451 3 -1 431 False\n",
      "-> 431 1 -1 331 False\n",
      "-> 331 0 -1 431 False\n",
      "-> 431 0 -1 431 False\n",
      "-> 431 3 -1 431 False\n",
      "-> 431 0 -1 431 False\n",
      "-> 431 0 -1 431 False\n",
      "-> 431 0 -1 431 False\n",
      "-> 431 1 -1 331 False\n",
      "-> 331 0 -1 431 False\n",
      "-> 431 3 -1 431 False\n",
      "-> 431 0 -1 431 False\n",
      "-> 431 4 -10 431 False\n",
      "-> 431 0 -1 431 False\n",
      "-> 431 0 -1 431 False\n",
      "-> 431 0 -1 431 False\n",
      "-> 431 0 -1 431 True\n",
      "total_reward -479\n",
      "total_steps 200\n"
     ]
    }
   ],
>>>>>>> Stashed changes
   "source": [
    "obs,_ = env.reset()\n",
    "print(obs)\n",
    "done = False\n",
    "total_reward = 0\n",
    "step_count = 0\n",
    "while not done:\n",
    "    state = obs\n",
    "    action = epsilon_greedy_policy(state, Q, 0.5)\n",
    "    obs, reward, done, _, _ = env.step(action)\n",
    "    total_reward += reward\n",
    "    step_count += 1\n",
    "    print('->', state, action, reward, obs, done)\n",
    "    env.render()\n",
    "print('total_reward', total_reward)\n",
    "print('total_steps', step_count)"
   ]
<<<<<<< Updated upstream
=======
  },
  {
   "cell_type": "markdown",
   "metadata": {},
   "source": [
    "Generar muchos episodios"
   ]
  },
  {
   "cell_type": "code",
   "execution_count": 121,
   "metadata": {},
   "outputs": [
    {
     "data": {
      "text/plain": [
       "0.2"
      ]
     },
     "execution_count": 121,
     "metadata": {},
     "output_type": "execute_result"
    }
   ],
   "source": [
    "alpha=0.2\n",
    "alpha"
   ]
  },
  {
   "cell_type": "code",
   "execution_count": 122,
   "metadata": {},
   "outputs": [
    {
     "data": {
      "text/plain": [
       "200"
      ]
     },
     "execution_count": 122,
     "metadata": {},
     "output_type": "execute_result"
    }
   ],
   "source": [
    "env.max_steps"
   ]
  },
  {
   "cell_type": "code",
   "execution_count": 123,
   "metadata": {},
   "outputs": [],
   "source": [
    "gamma = 0.0"
   ]
  },
  {
   "cell_type": "code",
   "execution_count": 124,
   "metadata": {},
   "outputs": [],
   "source": [
    "episodes = 100"
   ]
  },
  {
   "cell_type": "code",
   "execution_count": 126,
   "metadata": {},
   "outputs": [
    {
     "name": "stdout",
     "output_type": "stream",
     "text": [
      "0  of  100  Episodes\n",
      "10  of  100  Episodes\n",
      "lo dejo\n",
      "20  of  100  Episodes\n",
      "30  of  100  Episodes\n"
     ]
    },
    {
     "ename": "KeyboardInterrupt",
     "evalue": "",
     "output_type": "error",
     "traceback": [
      "\u001b[1;31m---------------------------------------------------------------------------\u001b[0m",
      "\u001b[1;31mKeyboardInterrupt\u001b[0m                         Traceback (most recent call last)",
      "Cell \u001b[1;32mIn[126], line 21\u001b[0m\n\u001b[0;32m     19\u001b[0m     value \u001b[38;5;241m=\u001b[39m Q[state][action] \u001b[38;5;241m+\u001b[39m alpha\u001b[38;5;241m*\u001b[39m(reward \u001b[38;5;241m+\u001b[39m gamma\u001b[38;5;241m*\u001b[39mnp\u001b[38;5;241m.\u001b[39margmax(Q[obs]) \u001b[38;5;241m-\u001b[39m Q[state][action])\n\u001b[0;32m     20\u001b[0m     Q[state][action] \u001b[38;5;241m=\u001b[39m value\n\u001b[1;32m---> 21\u001b[0m     \u001b[43menv\u001b[49m\u001b[38;5;241;43m.\u001b[39;49m\u001b[43mrender\u001b[49m\u001b[43m(\u001b[49m\u001b[43m)\u001b[49m\n\u001b[0;32m     24\u001b[0m \u001b[38;5;28;01mif\u001b[39;00m(i\u001b[38;5;241m%\u001b[39m\u001b[38;5;241m10\u001b[39m \u001b[38;5;241m==\u001b[39m \u001b[38;5;241m0\u001b[39m):\n\u001b[0;32m     25\u001b[0m     \u001b[38;5;28mprint\u001b[39m(i, \u001b[38;5;124m\"\u001b[39m\u001b[38;5;124m of \u001b[39m\u001b[38;5;124m\"\u001b[39m, episodes, \u001b[38;5;124m\"\u001b[39m\u001b[38;5;124m Episodes\u001b[39m\u001b[38;5;124m\"\u001b[39m)\n",
      "File \u001b[1;32mc:\\Python312\\Lib\\site-packages\\gymnasium\\envs\\toy_text\\taxi.py:323\u001b[0m, in \u001b[0;36mTaxiEnv.render\u001b[1;34m(self)\u001b[0m\n\u001b[0;32m    321\u001b[0m     \u001b[38;5;28;01mreturn\u001b[39;00m \u001b[38;5;28mself\u001b[39m\u001b[38;5;241m.\u001b[39m_render_text()\n\u001b[0;32m    322\u001b[0m \u001b[38;5;28;01melse\u001b[39;00m:  \u001b[38;5;66;03m# self.render_mode in {\"human\", \"rgb_array\"}:\u001b[39;00m\n\u001b[1;32m--> 323\u001b[0m     \u001b[38;5;28;01mreturn\u001b[39;00m \u001b[38;5;28;43mself\u001b[39;49m\u001b[38;5;241;43m.\u001b[39;49m\u001b[43m_render_gui\u001b[49m\u001b[43m(\u001b[49m\u001b[38;5;28;43mself\u001b[39;49m\u001b[38;5;241;43m.\u001b[39;49m\u001b[43mrender_mode\u001b[49m\u001b[43m)\u001b[49m\n",
      "File \u001b[1;32mc:\\Python312\\Lib\\site-packages\\gymnasium\\envs\\toy_text\\taxi.py:452\u001b[0m, in \u001b[0;36mTaxiEnv._render_gui\u001b[1;34m(self, mode)\u001b[0m\n\u001b[0;32m    449\u001b[0m     \u001b[38;5;28mself\u001b[39m\u001b[38;5;241m.\u001b[39mclock\u001b[38;5;241m.\u001b[39mtick(\u001b[38;5;28mself\u001b[39m\u001b[38;5;241m.\u001b[39mmetadata[\u001b[38;5;124m\"\u001b[39m\u001b[38;5;124mrender_fps\u001b[39m\u001b[38;5;124m\"\u001b[39m])\n\u001b[0;32m    450\u001b[0m \u001b[38;5;28;01melif\u001b[39;00m mode \u001b[38;5;241m==\u001b[39m \u001b[38;5;124m\"\u001b[39m\u001b[38;5;124mrgb_array\u001b[39m\u001b[38;5;124m\"\u001b[39m:\n\u001b[0;32m    451\u001b[0m     \u001b[38;5;28;01mreturn\u001b[39;00m np\u001b[38;5;241m.\u001b[39mtranspose(\n\u001b[1;32m--> 452\u001b[0m         \u001b[43mnp\u001b[49m\u001b[38;5;241;43m.\u001b[39;49m\u001b[43marray\u001b[49m\u001b[43m(\u001b[49m\u001b[43mpygame\u001b[49m\u001b[38;5;241;43m.\u001b[39;49m\u001b[43msurfarray\u001b[49m\u001b[38;5;241;43m.\u001b[39;49m\u001b[43mpixels3d\u001b[49m\u001b[43m(\u001b[49m\u001b[38;5;28;43mself\u001b[39;49m\u001b[38;5;241;43m.\u001b[39;49m\u001b[43mwindow\u001b[49m\u001b[43m)\u001b[49m\u001b[43m)\u001b[49m, axes\u001b[38;5;241m=\u001b[39m(\u001b[38;5;241m1\u001b[39m, \u001b[38;5;241m0\u001b[39m, \u001b[38;5;241m2\u001b[39m)\n\u001b[0;32m    453\u001b[0m     )\n",
      "\u001b[1;31mKeyboardInterrupt\u001b[0m: "
     ]
    }
   ],
   "source": [
    "i = 0\n",
    "success = 0\n",
    "while i< episodes:\n",
    "    obs, _ = env.reset()\n",
    "    done=False\n",
    "    total_reward = 0\n",
    "    step_count = 0\n",
    "    while not done:\n",
    "        state = obs\n",
    "        action = epsilon_greedy_policy(state, Q, 0.5)\n",
    "        obs, reward, done, _, _ = env.step(action)\n",
    "        \n",
    "        total_reward += reward\n",
    "        if (reward ==20):\n",
    "            print(\"lo dejo\")\n",
    "            success+=1\n",
    "        \n",
    "        step_count += 1          \n",
    "        value = Q[state][action] + alpha*(reward + gamma*np.argmax(Q[obs]) - Q[state][action])\n",
    "        Q[state][action] = value\n",
    "        env.render()\n",
    "    \n",
    "    \n",
    "    if(i%10 == 0):\n",
    "        print(i, \" of \", episodes, \" Episodes\")\n",
    "    i=i+1\n",
    "print(success)"
   ]
  },
  {
   "cell_type": "code",
   "execution_count": null,
   "metadata": {},
   "outputs": [
    {
     "data": {
      "text/plain": [
       "array([[ 0.        ,  0.        ,  0.        ,  0.        ,  0.        ,\n",
       "         0.        ],\n",
       "       [-0.79875835, -0.74904082, -0.86929087, -0.87031247, -0.79603186,\n",
       "        -4.62235785],\n",
       "       [-0.91590952, -0.89370523, -0.91390804, -0.8936181 , -0.86530271,\n",
       "        -3.04439041],\n",
       "       ...,\n",
       "       [-0.7104211 , -0.71065837, -0.71006618, -0.71124772, -2.30271769,\n",
       "        -2.88225711],\n",
       "       [-0.86267042, -0.83307411, -0.83017527, -0.86338544, -5.36193736,\n",
       "        -5.49970172],\n",
       "       [-0.0179    , -0.21424064, -0.01194   , -0.01960596, -0.092     ,\n",
       "        -0.096     ]])"
      ]
     },
     "execution_count": 110,
     "metadata": {},
     "output_type": "execute_result"
    }
   ],
   "source": [
    "Q"
   ]
>>>>>>> Stashed changes
  }
 ],
 "metadata": {
  "kernelspec": {
   "display_name": "Python 3",
   "language": "python",
   "name": "python3"
  },
  "language_info": {
   "codemirror_mode": {
    "name": "ipython",
    "version": 3
   },
   "file_extension": ".py",
   "mimetype": "text/x-python",
   "name": "python",
   "nbconvert_exporter": "python",
   "pygments_lexer": "ipython3",
   "version": "3.10.12"
  },
  "orig_nbformat": 4
 },
 "nbformat": 4,
 "nbformat_minor": 2
}
