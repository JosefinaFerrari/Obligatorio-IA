{
 "cells": [
  {
   "cell_type": "markdown",
   "metadata": {},
   "source": [
    "Esta notebook contiene bloques de código útiles para realizar Q-learning en el entorno \"Taxi\""
   ]
  },
  {
   "cell_type": "code",
   "execution_count": 73,
   "metadata": {},
   "outputs": [],
   "source": [
    "import numpy as np\n",
    "import random\n",
    "from taxi_env_extended import TaxiEnvExtended"
   ]
  },
  {
   "cell_type": "code",
   "execution_count": 74,
   "metadata": {},
   "outputs": [],
   "source": [
    "env = TaxiEnvExtended()"
   ]
  },
  {
   "cell_type": "markdown",
   "metadata": {},
   "source": [
    "Obtener la cantidad de estados y acciones"
   ]
  },
  {
   "cell_type": "code",
   "execution_count": 75,
   "metadata": {},
   "outputs": [],
   "source": [
    "actions = env.action_space.n\n",
    "states = env.observation_space.n"
   ]
  },
  {
   "cell_type": "markdown",
   "metadata": {},
   "source": [
    "Inicialización de la tabla Q"
   ]
  },
  {
   "cell_type": "code",
   "execution_count": 76,
   "metadata": {},
   "outputs": [
    {
     "data": {
      "text/plain": [
       "array([[0., 0., 0., 0., 0., 0.],\n",
       "       [0., 0., 0., 0., 0., 0.],\n",
       "       [0., 0., 0., 0., 0., 0.],\n",
       "       ...,\n",
       "       [0., 0., 0., 0., 0., 0.],\n",
       "       [0., 0., 0., 0., 0., 0.],\n",
       "       [0., 0., 0., 0., 0., 0.]])"
      ]
     },
     "execution_count": 76,
     "metadata": {},
     "output_type": "execute_result"
    }
   ],
   "source": [
    "Q = np.zeros((states, actions))\n",
    "Q"
   ]
  },
  {
   "cell_type": "markdown",
   "metadata": {},
   "source": [
    "Obtención de la acción a partir de la tabla Q"
   ]
  },
  {
   "cell_type": "code",
   "execution_count": 77,
   "metadata": {},
   "outputs": [],
   "source": [
    "def optimal_policy(state, Q):\n",
    "    action = np.argmax(Q[state])\n",
    "    return action"
   ]
  },
  {
   "cell_type": "markdown",
   "metadata": {},
   "source": [
    "Epsilon-Greedy Policy"
   ]
  },
  {
   "cell_type": "code",
   "execution_count": 78,
   "metadata": {},
   "outputs": [],
   "source": [
    "def epsilon_greedy_policy(state, Q, epsilon=0.1):\n",
    "    explore = np.random.binomial(1, epsilon)\n",
    "    if explore:\n",
    "        action = env.action_space.sample()\\\n",
    "    \n",
    "    else: # exploit\n",
    "        action = np.argmax(Q[state])\\\n",
    "        \n",
    "    return action"
   ]
  },
  {
   "cell_type": "markdown",
   "metadata": {},
   "source": [
    "Ejemplo de episodio "
   ]
  },
  {
   "cell_type": "code",
   "execution_count": 79,
   "metadata": {},
   "outputs": [
    {
     "name": "stdout",
     "output_type": "stream",
     "text": [
      "102\n",
      "-> 102 0 -1 202 False\n",
      "-> 202 0 -1 302 False\n",
      "-> 302 2 -1 302 False\n",
      "-> 302 0 -1 402 False\n",
      "-> 402 1 -1 302 False\n",
      "-> 302 3 -1 302 False\n",
      "-> 302 0 -1 402 False\n",
      "-> 402 0 -1 402 False\n",
      "-> 402 0 -1 402 False\n",
      "-> 402 1 -1 302 False\n",
      "-> 302 0 -1 402 False\n",
      "-> 402 5 -10 402 False\n",
      "-> 402 2 -1 402 False\n",
      "-> 402 3 -1 402 False\n",
      "-> 402 0 -1 402 False\n",
      "-> 402 0 -1 402 False\n",
      "-> 402 0 -1 402 False\n",
      "-> 402 2 -1 402 False\n",
      "-> 402 0 -1 402 False\n",
      "-> 402 5 -10 402 False\n",
      "-> 402 0 -1 402 False\n",
      "-> 402 1 -1 302 False\n",
      "-> 302 1 -1 202 False\n",
      "-> 202 0 -1 302 False\n",
      "-> 302 0 -1 402 False\n",
      "-> 402 3 -1 402 False\n",
      "-> 402 0 -1 402 False\n",
      "-> 402 0 -1 402 False\n",
      "-> 402 0 -1 402 False\n",
      "-> 402 0 -1 402 False\n",
      "-> 402 0 -1 402 False\n",
      "-> 402 3 -1 402 False\n",
      "-> 402 1 -1 302 False\n",
      "-> 302 0 -1 402 False\n",
      "-> 402 3 -1 402 False\n",
      "-> 402 4 -10 402 False\n",
      "-> 402 1 -1 302 False\n",
      "-> 302 0 -1 402 False\n",
      "-> 402 0 -1 402 False\n",
      "-> 402 0 -1 402 False\n",
      "-> 402 0 -1 402 False\n",
      "-> 402 0 -1 402 False\n",
      "-> 402 0 -1 402 False\n",
      "-> 402 1 -1 302 False\n",
      "-> 302 0 -1 402 False\n",
      "-> 402 3 -1 402 False\n",
      "-> 402 5 -10 402 False\n",
      "-> 402 4 -10 402 False\n",
      "-> 402 5 -10 402 False\n",
      "-> 402 4 -10 402 False\n",
      "-> 402 0 -1 402 False\n",
      "-> 402 5 -10 402 False\n",
      "-> 402 0 -1 402 False\n",
      "-> 402 0 -1 402 False\n",
      "-> 402 5 -10 402 False\n",
      "-> 402 0 -1 402 False\n",
      "-> 402 0 -1 402 False\n",
      "-> 402 1 -1 302 False\n",
      "-> 302 0 -1 402 False\n",
      "-> 402 3 -1 402 False\n",
      "-> 402 4 -10 402 False\n",
      "-> 402 0 -1 402 False\n",
      "-> 402 0 -1 402 False\n",
      "-> 402 0 -1 402 False\n",
      "-> 402 0 -1 402 False\n",
      "-> 402 0 -1 402 False\n",
      "-> 402 0 -1 402 False\n",
      "-> 402 0 -1 402 False\n",
      "-> 402 0 -1 402 False\n",
      "-> 402 4 -10 402 False\n",
      "-> 402 0 -1 402 False\n",
      "-> 402 0 -1 402 False\n",
      "-> 402 0 -1 402 False\n",
      "-> 402 3 -1 402 False\n",
      "-> 402 0 -1 402 False\n",
      "-> 402 1 -1 302 False\n",
      "-> 302 3 -1 302 False\n",
      "-> 302 0 -1 402 False\n",
      "-> 402 0 -1 402 False\n",
      "-> 402 0 -1 402 False\n",
      "-> 402 0 -1 402 False\n",
      "-> 402 3 -1 402 False\n",
      "-> 402 0 -1 402 False\n",
      "-> 402 0 -1 402 False\n",
      "-> 402 2 -1 402 False\n",
      "-> 402 4 -10 402 False\n",
      "-> 402 0 -1 402 False\n",
      "-> 402 5 -10 402 False\n",
      "-> 402 4 -10 402 False\n",
      "-> 402 5 -10 402 False\n",
      "-> 402 2 -1 402 False\n",
      "-> 402 0 -1 402 False\n",
      "-> 402 0 -1 402 False\n",
      "-> 402 0 -1 402 False\n",
      "-> 402 2 -1 402 False\n",
      "-> 402 0 -1 402 False\n",
      "-> 402 0 -1 402 False\n",
      "-> 402 5 -10 402 False\n",
      "-> 402 0 -1 402 False\n",
      "-> 402 0 -1 402 False\n",
      "-> 402 0 -1 402 False\n",
      "-> 402 3 -1 402 False\n",
      "-> 402 0 -1 402 False\n",
      "-> 402 0 -1 402 False\n",
      "-> 402 0 -1 402 False\n",
      "-> 402 0 -1 402 False\n",
      "-> 402 0 -1 402 False\n",
      "-> 402 4 -10 402 False\n",
      "-> 402 0 -1 402 False\n",
      "-> 402 0 -1 402 False\n",
      "-> 402 0 -1 402 False\n",
      "-> 402 0 -1 402 False\n",
      "-> 402 3 -1 402 False\n",
      "-> 402 4 -10 402 False\n",
      "-> 402 0 -1 402 False\n",
      "-> 402 0 -1 402 False\n",
      "-> 402 0 -1 402 False\n",
      "-> 402 5 -10 402 False\n",
      "-> 402 0 -1 402 False\n",
      "-> 402 0 -1 402 False\n",
      "-> 402 0 -1 402 False\n",
      "-> 402 0 -1 402 False\n",
      "-> 402 5 -10 402 False\n",
      "-> 402 0 -1 402 False\n",
      "-> 402 0 -1 402 False\n",
      "-> 402 0 -1 402 False\n",
      "-> 402 0 -1 402 False\n",
      "-> 402 0 -1 402 False\n",
      "-> 402 3 -1 402 False\n",
      "-> 402 0 -1 402 False\n",
      "-> 402 3 -1 402 False\n",
      "-> 402 1 -1 302 False\n",
      "-> 302 0 -1 402 False\n",
      "-> 402 0 -1 402 False\n",
      "-> 402 0 -1 402 False\n",
      "-> 402 0 -1 402 False\n",
      "-> 402 3 -1 402 False\n",
      "-> 402 5 -10 402 False\n",
      "-> 402 1 -1 302 False\n",
      "-> 302 0 -1 402 False\n",
      "-> 402 0 -1 402 False\n",
      "-> 402 0 -1 402 False\n",
      "-> 402 0 -1 402 False\n",
      "-> 402 5 -10 402 False\n",
      "-> 402 5 -10 402 False\n",
      "-> 402 0 -1 402 False\n",
      "-> 402 1 -1 302 False\n",
      "-> 302 2 -1 302 False\n",
      "-> 302 1 -1 202 False\n",
      "-> 202 2 -1 222 False\n",
      "-> 222 0 -1 322 False\n",
      "-> 322 0 -1 422 False\n",
      "-> 422 4 -10 422 False\n",
      "-> 422 3 -1 422 False\n",
      "-> 422 0 -1 422 False\n",
      "-> 422 0 -1 422 False\n",
      "-> 422 5 -10 422 False\n",
      "-> 422 0 -1 422 False\n",
      "-> 422 0 -1 422 False\n",
      "-> 422 0 -1 422 False\n",
      "-> 422 0 -1 422 False\n",
      "-> 422 0 -1 422 False\n",
      "-> 422 0 -1 422 False\n",
      "-> 422 0 -1 422 False\n",
      "-> 422 0 -1 422 False\n",
      "-> 422 3 -1 422 False\n",
      "-> 422 0 -1 422 False\n",
      "-> 422 0 -1 422 False\n",
      "-> 422 1 -1 322 False\n",
      "-> 322 0 -1 422 False\n",
      "-> 422 5 -10 422 False\n",
      "-> 422 5 -10 422 False\n",
      "-> 422 0 -1 422 False\n",
      "-> 422 4 -10 422 False\n",
      "-> 422 0 -1 422 False\n",
      "-> 422 0 -1 422 False\n",
      "-> 422 0 -1 422 False\n",
      "-> 422 0 -1 422 False\n",
      "-> 422 2 -1 442 False\n",
      "-> 442 0 -1 442 False\n",
      "-> 442 0 -1 442 False\n",
      "-> 442 5 -10 442 False\n",
      "-> 442 5 -10 442 False\n",
      "-> 442 0 -1 442 False\n",
      "-> 442 2 -1 442 False\n",
      "-> 442 0 -1 442 False\n",
      "-> 442 3 -1 422 False\n",
      "-> 422 0 -1 422 False\n",
      "-> 422 0 -1 422 False\n",
      "-> 422 3 -1 422 False\n",
      "-> 422 5 -10 422 False\n",
      "-> 422 0 -1 422 False\n",
      "-> 422 0 -1 422 False\n",
      "-> 422 0 -1 422 False\n",
      "-> 422 0 -1 422 False\n",
      "-> 422 5 -10 422 False\n",
      "-> 422 3 -1 422 False\n",
      "-> 422 0 -1 422 False\n",
      "-> 422 4 -10 422 False\n",
      "-> 422 0 -1 422 True\n",
      "total_reward -497\n",
      "total_steps 200\n"
     ]
    }
   ],
   "source": [
    "obs,_ = env.reset()\n",
    "print(obs)\n",
    "done = False\n",
    "total_reward = 0\n",
    "step_count = 0\n",
    "while not done:\n",
    "    state = obs\n",
    "    action = epsilon_greedy_policy(state, Q, 0.5)\n",
    "    obs, reward, done, _, _ = env.step(action)\n",
    "    total_reward += reward\n",
    "    step_count += 1\n",
    "    print('->', state, action, reward, obs, done)\n",
    "    env.render()\n",
    "print('total_reward', total_reward)\n",
    "print('total_steps', step_count)"
   ]
  },
  {
   "cell_type": "markdown",
   "metadata": {},
   "source": [
    "Generar muchos episodios"
   ]
  },
  {
   "cell_type": "code",
   "execution_count": 80,
   "metadata": {},
   "outputs": [
    {
     "data": {
      "text/plain": [
       "200"
      ]
     },
     "execution_count": 80,
     "metadata": {},
     "output_type": "execute_result"
    }
   ],
   "source": [
    "max_steps = env.max_steps\n",
    "max_steps"
   ]
  },
  {
   "cell_type": "code",
   "execution_count": 81,
   "metadata": {},
   "outputs": [],
   "source": [
    "episodes = 50000"
   ]
  },
  {
   "cell_type": "code",
   "execution_count": 82,
   "metadata": {},
   "outputs": [
    {
     "data": {
      "text/plain": [
       "0.004975124378109453"
      ]
     },
     "execution_count": 82,
     "metadata": {},
     "output_type": "execute_result"
    }
   ],
   "source": [
    "alpha=1 / (max_steps+1)\n",
    "alpha"
   ]
  },
  {
   "cell_type": "code",
   "execution_count": 83,
   "metadata": {},
   "outputs": [],
   "source": [
    "gamma = 0.9"
   ]
  },
  {
   "cell_type": "code",
   "execution_count": 84,
   "metadata": {},
   "outputs": [],
   "source": [
    "epsilon =0.99"
   ]
  },
  {
   "cell_type": "code",
   "execution_count": 85,
   "metadata": {},
   "outputs": [],
   "source": [
    "rewards=[]\n",
    "steps=[]"
   ]
  },
  {
   "cell_type": "code",
   "execution_count": 86,
   "metadata": {},
   "outputs": [],
   "source": [
    "from tqdm import tqdm"
   ]
  },
  {
   "cell_type": "code",
   "execution_count": 87,
   "metadata": {},
   "outputs": [
    {
     "name": "stderr",
     "output_type": "stream",
     "text": [
      "100%|██████████| 50000/50000 [00:49<00:00, 1014.81it/s]"
     ]
    },
    {
     "name": "stdout",
     "output_type": "stream",
     "text": [
      "46855\n"
     ]
    },
    {
     "name": "stderr",
     "output_type": "stream",
     "text": [
      "\n"
     ]
    }
   ],
   "source": [
    "i = 0\n",
    "success = 0\n",
    "for i in tqdm(range(episodes)):\n",
    "    \n",
    "    total_reward = 0    \n",
    "    step_count = 0\n",
    "    obs, _ = env.reset()\n",
    "    done=False\n",
    "    while not done:\n",
    "        state = obs\n",
    "        action = epsilon_greedy_policy(state, Q, 0.1)\n",
    "        obs, reward, done, _, _ = env.step(action)\n",
    "        \n",
    "        total_reward += reward\n",
    "        step_count += 1\n",
    "        if (reward ==20):\n",
    "            success+=1\n",
    "                      \n",
    "        value = Q[state][action] + alpha*(reward + gamma*np.max(Q[obs]) - Q[state][action])\n",
    "        Q[state][action] = value\n",
    "    \n",
    "    rewards.append(total_reward)\n",
    "    steps.append(step_count)\n",
    "    i=i+1\n",
    "    if (i % 100 == 0) and (epsilon > 0.01):  \n",
    "        epsilon *= 0.999\n",
    "print(success)\n"
   ]
  },
  {
   "cell_type": "code",
   "execution_count": 88,
   "metadata": {},
   "outputs": [
    {
     "name": "stdout",
     "output_type": "stream",
     "text": [
      "93.71000000000001 %\n"
     ]
    }
   ],
   "source": [
    "print(success/episodes*100, '%')"
   ]
  },
  {
   "cell_type": "code",
   "execution_count": 89,
   "metadata": {},
   "outputs": [],
   "source": [
    "import matplotlib.pyplot as plt\n"
   ]
  },
  {
   "cell_type": "code",
   "execution_count": 90,
   "metadata": {},
   "outputs": [
    {
     "data": {
      "image/png": "[encoded data removed]",
      "text/plain": [
       "<Figure size 1000x600 with 1 Axes>"
      ]
     },
     "metadata": {},
     "output_type": "display_data"
    }
   ],
   "source": [
    "plt.figure(figsize=(10, 6))\n",
    "plt.plot(rewards)\n",
    "plt.plot(steps)\n",
    "\n",
    "plt.show()"
   ]
  },
  {
   "cell_type": "code",
   "execution_count": 91,
   "metadata": {},
   "outputs": [
    {
     "data": {
      "text/plain": [
       "array([[ 0.        ,  0.        ,  0.        ,  0.        ,  0.        ,\n",
       "         0.        ],\n",
       "       [-2.70332692, -2.36141314, -3.08878827, -2.55140789,  1.62249462,\n",
       "        -5.09307179],\n",
       "       [-0.43031912,  0.37582159, -1.30357967,  0.38705977,  7.71468349,\n",
       "        -2.81886435],\n",
       "       ...,\n",
       "       [-0.77850792,  0.81883805, -0.77996065, -0.75321553, -0.98297118,\n",
       "        -0.88899792],\n",
       "       [-2.14046373, -2.14143474, -2.1435847 , -0.97881387, -2.36821225,\n",
       "        -2.19913167],\n",
       "       [ 0.10849853,  0.06721574,  0.0744421 , 11.22265684, -0.08116603,\n",
       "        -0.16365561]])"
      ]
     },
     "execution_count": 91,
     "metadata": {},
     "output_type": "execute_result"
    }
   ],
   "source": [
    "Q"
   ]
  },
  {
   "cell_type": "code",
   "execution_count": 94,
   "metadata": {},
   "outputs": [
    {
     "name": "stderr",
     "output_type": "stream",
     "text": [
      "100%|██████████| 500/500 [00:00<00:00, 128952.35it/s]"
     ]
    },
    {
     "name": "stdout",
     "output_type": "stream",
     "text": [
      "[0.0, 1.6224946194218859, 7.714683494822586, 2.913954062698607, -5.412243645596597, 0.0, -5.42342821886093, -4.498469403919063, -2.3126991082213006, -4.5171902267602615, 0.0, -3.9249553103078028, -5.034214898676765, -4.226790124013875, -5.0687738230283035, 0.0, 19.999999999999645, 2.9139983828784866, 9.68299824293694, 4.348898017747578, 0.0, -1.1097544393957965, 3.2391751202254198, -0.1903133579290095, -5.3622261671856, 0.0, -5.368095241633467, -4.345600933680331, -2.9743963512134064, -4.7709454215471325, 0.0, -4.322698196338802, -4.868319330346562, -3.9258405254521898, -4.915809968858744, 0.0, 11.841721481359103, -1.313164521594757, 1.3431906170942738, -0.887744203442845, 0.0, -5.115038274970909, -3.65543136226269, -4.7767364249406015, -3.1442525293095893, 0.0, -3.0461723979614654, -1.2889126893084906, -3.76775530367073, -5.474477331839414, 0.0, -5.058063600135376, -4.195808630084063, -3.188458530293047, -4.1987530837212095, 0.0, -0.6490890306761031, 0.22371447973477893, -0.9334604672513862, -0.5168006324336993, 0.0, -5.324586817284879, -3.9307442731533566, -5.045931434176525, -0.4576757970649138, 0.0, -0.3892050730677051, 2.9856174807768223, -4.077388744372725, -5.670311801917389, 0.0, -5.290105963740335, -3.5271891563090474, -2.107619137018881, -3.5259796404910575, 0.0, 4.348897276654127, 11.647665997896548, 4.348895794887453, 3.54440593199798, 0.0, -5.417954729011782, -4.2461685221731065, -5.156701929107644, 1.6222772001879744, 0.0, 1.6222334903160334, 5.9431288481837345, -4.430884466324083, -5.767698843723202, 0.0, -5.437141616168854, -4.214061512594296, -3.261621628734629, -4.231107783784439, 0.0, 2.9139440342576672, 19.999999999999645, 2.9139324078697677, 7.714681383794868, 0.0, 0.45957799447800757, 5.9430828549741035, 1.6221746686915814, -5.310294414256513, 0.0, -5.328548855624029, -4.2619430321130345, 1.3849472836283343, -2.6741428450823075, 0.0, -1.7037271264409581, -4.780598722847819, -3.8168451200102917, -4.822824944792119, 0.0, 16.999999999999325, 4.34890571962312, 11.869999908064974, 5.943229423052408, 0.0, -0.5913501658210343, 4.3472516440949684, 0.4564563235991026, -4.902776796182003, 0.0, -4.911028809976566, -3.233588115063027, -0.29379701211161546, -3.4502658546129252, 0.0, -2.6436205451742376, -3.7325112214824228, -2.1954712141833994, -3.843027370661545, 0.0, 11.980843580016963, 3.7588237132814397, 6.189203020862578, 5.079272952296046, 0.0, -4.060840869411422, -1.2962509299814082, -3.4924046857671223, -2.9917231948583995, 0.0, -2.935767055004313, -0.8726239489110241, -1.2889709364249968, -4.269360209944062, 0.0, -3.6546530210703887, -2.8754648357703134, -1.18820969037828, -2.8895596291576533, 0.0, 5.48399215527898, 3.822765871561735, 4.935451633069952, 5.994211641058267, 0.0, -4.885605127144274, -2.1427234698306497, -4.274264214843477, -0.596990438515909, 0.0, -0.5992861427816862, 2.9088710921080327, -2.1280456238446073, -4.986127416405494, 0.0, -4.3008112926259425, -1.1076630661007956, 1.1011699663441088, -1.1761697536029063, 0.0, 5.943229440304463, 13.203763971624914, 5.943229345260127, 11.869999902569338, 0.0, -5.337805357187, -3.91859892926533, -5.040318608315858, 0.458592521974808, 0.0, 0.458230083954071, 4.3482484772325405, -4.070025395547572, -5.687893827124437, 0.0, -5.315145913678565, -3.303150556034608, -1.8036441396007892, -3.4357881720189534, 0.0, 1.047480188401473, 16.999999999999325, 0.6614257671603001, 9.682997736312018, 0.0, -1.2546501461265531, 3.3909770746613517, -0.20707590295866746, -4.856940320671857, 0.0, -4.855814559126573, -2.9088826139935064, 4.348303936365511, -0.5891735510098403, 0.0, 0.458935995166092, -3.4494226221855966, -1.7044788237051014, -3.4221125874541602, 0.0, 14.299999999999216, 5.943229999991879, 14.299999999999216, 7.714699999998519, 0.0, -1.5511186482716726, 2.9048500834207474, -0.6027562627976909, -3.6366241392384806, 0.0, -3.6487176880797567, -1.0100525549178518, 2.910228726603082, -1.5416154398368327, 0.0, -0.5925312550684403, -1.7372359860582836, 0.31599413745139215, -1.734253801177625, 0.0, 11.869999999999116, 7.7146999999987145, 11.869999999999116, 9.682999999999028, 0.0, -2.4613231618673437, 1.5751053393628782, -1.5977504010271206, -2.5525417845257654, 0.0, -2.576061594015746, 0.334993412552926, 1.594280736148091, -2.4452249305177167, 0.0, -1.5722526265608618, -0.6124827224749689, 1.609340735680988, -0.6150389046091015, 0.0, 9.682999999999028, 9.682999999999028, 9.682999999999028, 11.869999999999116, 0.0, -3.475873832772061, 0.16312290225228562, -2.694435282369045, -1.576588295191431, 0.0, -1.5858395660135536, 1.5948981371177462, 0.23673809430758666, -3.4774698318458896, 0.0, -2.6344706562196043, 0.45714464777362585, 2.912975845621421, 0.4570866186594408, 0.0, 7.714699999997811, 11.869999999999116, 7.714699999998013, 14.299999999999216, 0.0, -4.911586558873135, -3.121600101159601, -4.520377504591386, -1.2024702743314253, 0.0, -1.2992145145200809, 2.007763851886127, -3.0624746985732, -5.224853110455252, 0.0, -4.766280026192345, -2.3533419823287374, -0.5027786894695753, -2.320444769477695, 0.0, 1.7056836223851406, 14.299999999999216, 1.7455654408358934, 8.839460243169952, 0.0, -3.3141804313130354, -0.45053655475014165, -2.626927587321968, -5.417222043825638, 0.0, -5.424990479096498, -4.356466158898889, 5.943120726061669, 0.4595002283725235, 0.0, 1.6223100163810154, -4.850529832680663, -3.718159890670258, -4.828872290878616, 0.0, 11.869999933776858, 4.348905621729415, 16.999999999999325, 5.94322964364894, 0.0, -3.343255805067467, 0.044777220554757656, -2.6146408360748103, -4.851809111111492, 0.0, -4.852010039671456, -3.379638755536099, 0.019522352270843257, -3.515877485786448, 0.0, -2.6615420380289345, -3.7841092567569596, -2.368432625657651, -3.809154210385063, 0.0, 4.650714427487486, 1.6966402155818439, 4.918740107484921, 3.490004463448738, 0.0, -4.231156682294061, -1.311865855264609, -3.657047202313664, -4.164472249132995, 0.0, -4.264056651812241, -2.2253207901819954, -1.4803613037420753, -4.353650249213613, 0.0, -3.739363942149139, -2.7802003023691615, -1.0732304248501623, -2.9406755507069846, 0.0, 3.391626675022301, 3.3826671492715024, 3.5986053590330123, 4.124531531816384, 0.0, -4.831571220629454, -2.1477269742393448, -4.248918844673238, -3.451270693068712, 0.0, -3.373326673301299, -1.1782934619540066, -2.028656036324526, -4.965710703724277, 0.0, -4.268441840452869, 1.6220364251630417, 4.348747760585085, 1.6220395041420688, 0.0, 5.943229304349904, 9.682999875805207, 5.943229389446097, 16.999999999999325, 0.0, -5.404277432204295, -3.9951318550282107, -5.0754008718364645, -3.2623387053630313, 0.0, -3.3688920894353585, -1.3074174842586472, -4.0414287399107645, -5.732332760582886, 0.0, -5.352060583900754, -1.5819234723072182, 0.5276845293817499, -1.4968615596733486, 0.0, -0.4878652879057935, 9.648309695262958, -0.36292901274893064, 9.198918790910964, 0.0, -4.285511120604819, -2.6931368883706104, -3.884613650993819, -5.533762416698477, 0.0, -5.560277995287442, -4.722333711995256, 7.71468410154274, 1.622464147409428, 0.0, 2.9139667893689873, -5.182746126338026, -4.4459754266222316, -5.241938589514101, 0.0, 9.682998349092326, 2.9139956643732527, 19.999999999999645, 4.348900669651332, 0.0, -4.623842433041496, -2.8740677505374834, -4.263657673494692, -5.037023626219153, 0.0, -5.061511639034224, -4.072065341992904, -3.0443359702897954, -5.017638800193959, 0.0, -4.5026398710236375, -4.692092417836533, -3.789328056448355, -4.701162707187347, 0.0, -0.5683617188011365, -1.0497416669186819, -0.7834480420156378, -0.7226840106191232, 0.0, -4.844133184079842, -3.3266198317229705, -4.519753690636452, -4.958820613437419, 0.0, -4.9805334782358415, -3.803295905912212, -3.549990517788745, -5.250132194233702, 0.0, -4.857209807048126, -4.4070692894996615, -3.422087530177043, -4.489136496956917, 0.0, -0.6238053522352254, -0.97634365190456, -0.8007604549575882, -0.6878069986462134, 0.0, -5.453149988584725, -4.037409011459823, -5.116947845489362, -4.347145630654488, 0.0, -4.347909170589286, -3.0483985784399734, -4.145790344787764, -5.7804568990052685, 0.0, -5.403097690083985, 2.913926448907403, 5.943209052058443, 2.9139363321493708, 0.0, 4.348895327684658, 7.714697493990853, 4.348896723444247, 19.999999999999645, 0.0, -5.507055061312302, -4.375878832285852, -5.201941508459678, -4.281929661960925, 0.0, -4.314555008569919, -3.0191275127440864, -4.507089795864392, -5.857344774470723, 0.0, -5.546291886225693, -0.5737205790750364, 1.3469681063127805, -0.47808347547158925, 0.0, -0.9519099542074233, 0.8188380468074684, -0.9788138721937004, 11.222656837974128]\n"
     ]
    },
    {
     "name": "stderr",
     "output_type": "stream",
     "text": [
      "\n"
     ]
    }
   ],
   "source": [
    "policy=[]\n",
    "for i in tqdm(range(states)):\n",
    "    policy.append(max(Q[i]))\n",
    "\n",
    "print(policy)\n"
   ]
  },
  {
   "cell_type": "code",
   "execution_count": 98,
   "metadata": {},
   "outputs": [],
   "source": [
    "rewards_testing=[]\n",
    "steps_testing=[]"
   ]
  },
  {
   "cell_type": "code",
   "execution_count": 99,
   "metadata": {},
   "outputs": [
    {
     "name": "stdout",
     "output_type": "stream",
     "text": [
      "episode: 1\n",
      "-> total reward:  13\n",
      "-> total steps:  8\n",
      "episode: 2\n",
      "-> total reward:  5\n",
      "-> total steps:  16\n",
      "episode: 3\n",
      "-> total reward:  -8\n",
      "-> total steps:  20\n",
      "episode: 4\n",
      "-> total reward:  9\n",
      "-> total steps:  12\n",
      "episode: 5\n",
      "-> total reward:  5\n",
      "-> total steps:  16\n",
      "episode: 6\n",
      "-> total reward:  11\n",
      "-> total steps:  10\n",
      "episode: 7\n",
      "-> total reward:  8\n",
      "-> total steps:  13\n",
      "episode: 8\n",
      "-> total reward:  -13\n",
      "-> total steps:  16\n",
      "episode: 9\n",
      "-> total reward:  10\n",
      "-> total steps:  11\n",
      "episode: 10\n",
      "-> total reward:  -7\n",
      "-> total steps:  19\n"
     ]
    }
   ],
   "source": [
    "i = 0\n",
    "while i< 10:\n",
    "    print(\"episode:\", i+1)\n",
    "    obs,_ = env.reset()\n",
    "    done = False\n",
    "    total_reward = 0\n",
    "    step_count = 0\n",
    "    while not done:\n",
    "        state = obs\n",
    "        action = epsilon_greedy_policy(state, Q)\n",
    "        obs, reward, done, _, _ = env.step(action)\n",
    "        total_reward += reward\n",
    "        step_count += 1\n",
    "        env.render()\n",
    "    i+=1\n",
    "    steps_testing.append(step_count)\n",
    "    print('-> total reward: ', total_reward)\n",
    "    print('-> total steps: ', step_count)"
   ]
  },
  {
   "cell_type": "code",
   "execution_count": 101,
   "metadata": {},
   "outputs": [
    {
     "data": {
      "text/plain": [
       "[8, 16, 20, 12, 16, 10, 13, 16, 11, 19]"
      ]
     },
     "execution_count": 101,
     "metadata": {},
     "output_type": "execute_result"
    }
   ],
   "source": [
    "steps_testing"
   ]
  },
  {
   "cell_type": "code",
   "execution_count": 106,
   "metadata": {},
   "outputs": [
    {
     "name": "stdout",
     "output_type": "stream",
     "text": [
      "14.1\n"
     ]
    },
    {
     "data": {
      "image/png": "[encoded data removed]",
      "text/plain": [
       "<Figure size 1000x600 with 1 Axes>"
      ]
     },
     "metadata": {},
     "output_type": "display_data"
    }
   ],
   "source": [
    "# Plot steps\n",
    "plt.figure(figsize=(10, 6))\n",
    "plt.plot(steps_testing, color='blue', label='Episode steps')"
   ]
  },
  {
   "cell_type": "code",
   "execution_count": 107,
   "metadata": {},
   "outputs": [
    {
     "name": "stdout",
     "output_type": "stream",
     "text": [
      "14.1\n"
     ]
    }
   ],
   "source": [
    "average_steps = np.mean(steps_testing)\n",
    "print(average_steps)"
   ]
  }
 ],
 "metadata": {
  "kernelspec": {
   "display_name": "Python 3",
   "language": "python",
   "name": "python3"
  },
  "language_info": {
   "codemirror_mode": {
    "name": "ipython",
    "version": 3
   },
   "file_extension": ".py",
   "mimetype": "text/x-python",
   "name": "python",
   "nbconvert_exporter": "python",
   "pygments_lexer": "ipython3",
   "version": "3.12.0"
  },
  "orig_nbformat": 4
 },
 "nbformat": 4,
 "nbformat_minor": 2
}
