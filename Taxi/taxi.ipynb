{
 "cells": [
  {
   "cell_type": "markdown",
   "metadata": {},
   "source": [
    "Esta notebook contiene bloques de código útiles para realizar Q-learning en el entorno \"Taxi\""
   ]
  },
  {
   "cell_type": "code",
   "execution_count": 336,
   "metadata": {},
   "outputs": [],
   "source": [
    "import numpy as np\n",
    "import random\n",
    "from taxi_env_extended import TaxiEnvExtended"
   ]
  },
  {
   "cell_type": "code",
   "execution_count": 337,
   "metadata": {},
   "outputs": [],
   "source": [
    "env = TaxiEnvExtended()"
   ]
  },
  {
   "cell_type": "markdown",
   "metadata": {},
   "source": [
    "Obtener la cantidad de estados y acciones"
   ]
  },
  {
   "cell_type": "code",
   "execution_count": 338,
   "metadata": {},
   "outputs": [],
   "source": [
    "actions = env.action_space.n\n",
    "states = env.observation_space.n"
   ]
  },
  {
   "cell_type": "markdown",
   "metadata": {},
   "source": [
    "Inicialización de la tabla Q"
   ]
  },
  {
   "cell_type": "code",
   "execution_count": 339,
   "metadata": {},
   "outputs": [
    {
     "data": {
      "text/plain": [
       "array([[0., 0., 0., 0., 0., 0.],\n",
       "       [0., 0., 0., 0., 0., 0.],\n",
       "       [0., 0., 0., 0., 0., 0.],\n",
       "       ...,\n",
       "       [0., 0., 0., 0., 0., 0.],\n",
       "       [0., 0., 0., 0., 0., 0.],\n",
       "       [0., 0., 0., 0., 0., 0.]])"
      ]
     },
     "execution_count": 339,
     "metadata": {},
     "output_type": "execute_result"
    }
   ],
   "source": [
    "Q = np.zeros((states, actions))\n",
    "Q"
   ]
  },
  {
   "cell_type": "markdown",
   "metadata": {},
   "source": [
    "Obtención de la acción a partir de la tabla Q"
   ]
  },
  {
   "cell_type": "code",
   "execution_count": 340,
   "metadata": {},
   "outputs": [],
   "source": [
    "def optimal_policy(state, Q):\n",
    "    action = np.argmax(Q[state])\n",
    "    return action"
   ]
  },
  {
   "cell_type": "markdown",
   "metadata": {},
   "source": [
    "Epsilon-Greedy Policy"
   ]
  },
  {
   "cell_type": "code",
   "execution_count": 341,
   "metadata": {},
   "outputs": [],
   "source": [
    "def epsilon_greedy_policy(state, Q, epsilon=0.1):\n",
    "    explore = np.random.binomial(1, epsilon)\n",
    "    if explore:\n",
    "        action = env.action_space.sample()\\\n",
    "    \n",
    "    else: # exploit\n",
    "        action = np.argmax(Q[state])\\\n",
    "        \n",
    "    return action"
   ]
  },
  {
   "cell_type": "markdown",
   "metadata": {},
   "source": [
    "Ejemplo de episodio "
   ]
  },
  {
   "cell_type": "code",
   "execution_count": 342,
   "metadata": {},
   "outputs": [
    {
     "name": "stdout",
     "output_type": "stream",
     "text": [
      "464\n",
      "-> 464 0 -1 464 False\n",
      "-> 464 3 -1 464 False\n",
      "-> 464 5 -10 464 False\n",
      "-> 464 0 -1 464 False\n",
      "-> 464 0 -1 464 False\n",
      "-> 464 2 -1 484 False\n",
      "-> 484 0 -1 484 False\n",
      "-> 484 0 -1 484 False\n",
      "-> 484 1 -1 384 False\n",
      "-> 384 0 -1 484 False\n",
      "-> 484 0 -1 484 False\n",
      "-> 484 0 -1 484 False\n",
      "-> 484 0 -1 484 False\n",
      "-> 484 0 -1 484 False\n",
      "-> 484 0 -1 484 False\n",
      "-> 484 3 -1 464 False\n",
      "-> 464 4 -10 464 False\n",
      "-> 464 0 -1 464 False\n",
      "-> 464 0 -1 464 False\n",
      "-> 464 2 -1 484 False\n",
      "-> 484 0 -1 484 False\n",
      "-> 484 1 -1 384 False\n",
      "-> 384 4 -10 384 False\n",
      "-> 384 0 -1 484 False\n",
      "-> 484 0 -1 484 False\n",
      "-> 484 0 -1 484 False\n",
      "-> 484 2 -1 484 False\n",
      "-> 484 0 -1 484 False\n",
      "-> 484 4 -10 484 False\n",
      "-> 484 2 -1 484 False\n",
      "-> 484 0 -1 484 False\n",
      "-> 484 3 -1 464 False\n",
      "-> 464 1 -1 364 False\n",
      "-> 364 0 -1 464 False\n",
      "-> 464 0 -1 464 False\n",
      "-> 464 0 -1 464 False\n",
      "-> 464 0 -1 464 False\n",
      "-> 464 0 -1 464 False\n",
      "-> 464 0 -1 464 False\n",
      "-> 464 2 -1 484 False\n",
      "-> 484 2 -1 484 False\n",
      "-> 484 0 -1 484 False\n",
      "-> 484 4 -10 484 False\n",
      "-> 484 5 -10 484 False\n",
      "-> 484 0 -1 484 False\n",
      "-> 484 0 -1 484 False\n",
      "-> 484 4 -10 484 False\n",
      "-> 484 3 -1 464 False\n",
      "-> 464 4 -10 464 False\n",
      "-> 464 0 -1 464 False\n",
      "-> 464 2 -1 484 False\n",
      "-> 484 0 -1 484 False\n",
      "-> 484 0 -1 484 False\n",
      "-> 484 2 -1 484 False\n",
      "-> 484 0 -1 484 False\n",
      "-> 484 0 -1 484 False\n",
      "-> 484 5 -10 484 False\n",
      "-> 484 0 -1 484 False\n",
      "-> 484 0 -1 484 False\n",
      "-> 484 0 -1 484 False\n",
      "-> 484 0 -1 484 False\n",
      "-> 484 3 -1 464 False\n",
      "-> 464 4 -10 464 False\n",
      "-> 464 0 -1 464 False\n",
      "-> 464 2 -1 484 False\n",
      "-> 484 0 -1 484 False\n",
      "-> 484 0 -1 484 False\n",
      "-> 484 4 -10 484 False\n",
      "-> 484 0 -1 484 False\n",
      "-> 484 0 -1 484 False\n",
      "-> 484 0 -1 484 False\n",
      "-> 484 3 -1 464 False\n",
      "-> 464 3 -1 464 False\n",
      "-> 464 0 -1 464 False\n",
      "-> 464 4 -10 464 False\n",
      "-> 464 0 -1 464 False\n",
      "-> 464 0 -1 464 False\n",
      "-> 464 5 -10 464 False\n",
      "-> 464 0 -1 464 False\n",
      "-> 464 0 -1 464 False\n",
      "-> 464 0 -1 464 False\n",
      "-> 464 0 -1 464 False\n",
      "-> 464 1 -1 364 False\n",
      "-> 364 3 -1 364 False\n",
      "-> 364 0 -1 464 False\n",
      "-> 464 0 -1 464 False\n",
      "-> 464 0 -1 464 False\n",
      "-> 464 0 -1 464 False\n",
      "-> 464 4 -10 464 False\n",
      "-> 464 0 -1 464 False\n",
      "-> 464 1 -1 364 False\n",
      "-> 364 4 -10 364 False\n",
      "-> 364 0 -1 464 False\n",
      "-> 464 0 -1 464 False\n",
      "-> 464 0 -1 464 False\n",
      "-> 464 0 -1 464 False\n",
      "-> 464 0 -1 464 False\n",
      "-> 464 0 -1 464 False\n",
      "-> 464 0 -1 464 False\n",
      "-> 464 0 -1 464 False\n",
      "-> 464 3 -1 464 False\n",
      "-> 464 0 -1 464 False\n",
      "-> 464 4 -10 464 False\n",
      "-> 464 1 -1 364 False\n",
      "-> 364 0 -1 464 False\n",
      "-> 464 4 -10 464 False\n",
      "-> 464 0 -1 464 False\n",
      "-> 464 4 -10 464 False\n",
      "-> 464 4 -10 464 False\n",
      "-> 464 5 -10 464 False\n",
      "-> 464 0 -1 464 False\n",
      "-> 464 0 -1 464 False\n",
      "-> 464 4 -10 464 False\n",
      "-> 464 0 -1 464 False\n",
      "-> 464 5 -10 464 False\n",
      "-> 464 0 -1 464 False\n",
      "-> 464 0 -1 464 False\n",
      "-> 464 0 -1 464 False\n",
      "-> 464 0 -1 464 False\n",
      "-> 464 1 -1 364 False\n",
      "-> 364 0 -1 464 False\n",
      "-> 464 5 -10 464 False\n",
      "-> 464 0 -1 464 False\n",
      "-> 464 4 -10 464 False\n",
      "-> 464 3 -1 464 False\n",
      "-> 464 0 -1 464 False\n",
      "-> 464 3 -1 464 False\n",
      "-> 464 5 -10 464 False\n",
      "-> 464 0 -1 464 False\n",
      "-> 464 0 -1 464 False\n",
      "-> 464 0 -1 464 False\n",
      "-> 464 0 -1 464 False\n",
      "-> 464 0 -1 464 False\n",
      "-> 464 1 -1 364 False\n",
      "-> 364 0 -1 464 False\n",
      "-> 464 0 -1 464 False\n",
      "-> 464 0 -1 464 False\n",
      "-> 464 1 -1 364 False\n",
      "-> 364 5 -10 364 False\n",
      "-> 364 0 -1 464 False\n",
      "-> 464 5 -10 464 False\n",
      "-> 464 3 -1 464 False\n",
      "-> 464 0 -1 464 False\n",
      "-> 464 0 -1 464 False\n",
      "-> 464 0 -1 464 False\n",
      "-> 464 4 -10 464 False\n",
      "-> 464 0 -1 464 False\n",
      "-> 464 4 -10 464 False\n",
      "-> 464 2 -1 484 False\n",
      "-> 484 5 -10 484 False\n",
      "-> 484 0 -1 484 False\n",
      "-> 484 3 -1 464 False\n",
      "-> 464 0 -1 464 False\n",
      "-> 464 0 -1 464 False\n",
      "-> 464 0 -1 464 False\n",
      "-> 464 0 -1 464 False\n",
      "-> 464 0 -1 464 False\n",
      "-> 464 1 -1 364 False\n",
      "-> 364 0 -1 464 False\n",
      "-> 464 0 -1 464 False\n",
      "-> 464 4 -10 464 False\n",
      "-> 464 0 -1 464 False\n",
      "-> 464 0 -1 464 False\n",
      "-> 464 0 -1 464 False\n",
      "-> 464 3 -1 464 False\n",
      "-> 464 0 -1 464 False\n",
      "-> 464 0 -1 464 False\n",
      "-> 464 0 -1 464 False\n",
      "-> 464 1 -1 364 False\n",
      "-> 364 2 -1 384 False\n",
      "-> 384 0 -1 484 False\n",
      "-> 484 0 -1 484 False\n",
      "-> 484 4 -10 484 False\n",
      "-> 484 0 -1 484 False\n",
      "-> 484 0 -1 484 False\n",
      "-> 484 0 -1 484 False\n",
      "-> 484 0 -1 484 False\n",
      "-> 484 0 -1 484 False\n",
      "-> 484 5 -10 484 False\n",
      "-> 484 4 -10 484 False\n",
      "-> 484 1 -1 384 False\n",
      "-> 384 4 -10 384 False\n",
      "-> 384 0 -1 484 False\n",
      "-> 484 0 -1 484 False\n",
      "-> 484 0 -1 484 False\n",
      "-> 484 3 -1 464 False\n",
      "-> 464 0 -1 464 False\n",
      "-> 464 2 -1 484 False\n",
      "-> 484 0 -1 484 False\n",
      "-> 484 3 -1 464 False\n",
      "-> 464 0 -1 464 False\n",
      "-> 464 0 -1 464 False\n",
      "-> 464 0 -1 464 False\n",
      "-> 464 0 -1 464 False\n",
      "-> 464 5 -10 464 False\n",
      "-> 464 0 -1 464 False\n",
      "-> 464 0 -1 464 False\n",
      "-> 464 0 -1 464 False\n",
      "-> 464 4 -10 464 False\n",
      "-> 464 0 -1 464 True\n",
      "total_reward -533\n",
      "total_steps 200\n"
     ]
    }
   ],
   "source": [
    "obs,_ = env.reset()\n",
    "print(obs)\n",
    "done = False\n",
    "total_reward = 0\n",
    "step_count = 0\n",
    "while not done:\n",
    "    state = obs\n",
    "    action = epsilon_greedy_policy(state, Q, 0.5)\n",
    "    obs, reward, done, _, _ = env.step(action)\n",
    "    total_reward += reward\n",
    "    step_count += 1\n",
    "    print('->', state, action, reward, obs, done)\n",
    "    env.render()\n",
    "print('total_reward', total_reward)\n",
    "print('total_steps', step_count)"
   ]
  },
  {
   "cell_type": "markdown",
   "metadata": {},
   "source": [
    "Generar muchos episodios"
   ]
  },
  {
   "cell_type": "code",
   "execution_count": 343,
   "metadata": {},
   "outputs": [
    {
     "data": {
      "text/plain": [
       "200"
      ]
     },
     "execution_count": 343,
     "metadata": {},
     "output_type": "execute_result"
    }
   ],
   "source": [
    "max_steps = env.max_steps\n",
    "max_steps"
   ]
  },
  {
   "cell_type": "code",
   "execution_count": 344,
   "metadata": {},
   "outputs": [],
   "source": [
    "episodes = 80000"
   ]
  },
  {
   "cell_type": "code",
   "execution_count": 345,
   "metadata": {},
   "outputs": [
    {
     "data": {
      "text/plain": [
       "0.004975124378109453"
      ]
     },
     "execution_count": 345,
     "metadata": {},
     "output_type": "execute_result"
    }
   ],
   "source": [
    "alpha=1 / (max_steps+1)\n",
    "alpha"
   ]
  },
  {
   "cell_type": "code",
   "execution_count": 346,
   "metadata": {},
   "outputs": [],
   "source": [
    "gamma = 0.9"
   ]
  },
  {
   "cell_type": "code",
   "execution_count": 347,
   "metadata": {},
   "outputs": [],
   "source": [
    "epsilon =0.99"
   ]
  },
  {
   "cell_type": "code",
   "execution_count": 348,
   "metadata": {},
   "outputs": [],
   "source": [
    "rewards=[]\n",
    "steps=[]"
   ]
  },
  {
   "cell_type": "code",
   "execution_count": 349,
   "metadata": {},
   "outputs": [],
   "source": [
    "from tqdm import tqdm"
   ]
  },
  {
   "cell_type": "code",
   "execution_count": 350,
   "metadata": {},
   "outputs": [
    {
     "name": "stderr",
     "output_type": "stream",
     "text": [
      "100%|██████████| 80000/80000 [01:07<00:00, 1182.51it/s]"
     ]
    },
    {
     "name": "stdout",
     "output_type": "stream",
     "text": [
      "76950\n"
     ]
    },
    {
     "name": "stderr",
     "output_type": "stream",
     "text": [
      "\n"
     ]
    }
   ],
   "source": [
    "i = 0\n",
    "success = 0\n",
    "for i in tqdm(range(episodes)):\n",
    "    \n",
    "    total_reward = 0    \n",
    "    step_count = 0\n",
    "    obs, _ = env.reset()\n",
    "    done=False\n",
    "    while not done:\n",
    "        state = obs\n",
    "        action = epsilon_greedy_policy(state, Q, epsilon)\n",
    "        obs, reward, done, _, _ = env.step(action)\n",
    "        \n",
    "        total_reward += reward\n",
    "        step_count += 1\n",
    "        if (reward ==20):\n",
    "            success+=1\n",
    "                      \n",
    "        value = Q[state][action] + alpha*(reward + gamma*np.max(Q[obs]) - Q[state][action])\n",
    "        Q[state][action] = value\n",
    "    \n",
    "    rewards.append(total_reward)\n",
    "    steps.append(step_count)\n",
    "    i=i+1\n",
    "    if (i %  4== 0) and (epsilon > 0.01):  \n",
    "        epsilon *= 0.99\n",
    "print(success)\n"
   ]
  },
  {
   "cell_type": "code",
   "execution_count": 351,
   "metadata": {},
   "outputs": [
    {
     "data": {
      "text/plain": [
       "0.009920974201040588"
      ]
     },
     "execution_count": 351,
     "metadata": {},
     "output_type": "execute_result"
    }
   ],
   "source": [
    "epsilon"
   ]
  },
  {
   "cell_type": "code",
   "execution_count": 352,
   "metadata": {},
   "outputs": [
    {
     "name": "stdout",
     "output_type": "stream",
     "text": [
      "96.1875 %\n"
     ]
    }
   ],
   "source": [
    "print(success/episodes*100, '%')"
   ]
  },
  {
   "cell_type": "code",
   "execution_count": 353,
   "metadata": {},
   "outputs": [],
   "source": [
    "import matplotlib.pyplot as plt\n"
   ]
  },
  {
   "cell_type": "code",
   "execution_count": 354,
   "metadata": {},
   "outputs": [
    {
     "data": {
      "image/png": "[encoded data removed]",
      "text/plain": [
       "<Figure size 1000x600 with 1 Axes>"
      ]
     },
     "metadata": {},
     "output_type": "display_data"
    }
   ],
   "source": [
    "plt.figure(figsize=(10, 6))\n",
    "plt.plot(rewards)\n",
    "plt.plot(steps)\n",
    "\n",
    "plt.show()"
   ]
  },
  {
   "cell_type": "code",
   "execution_count": 355,
   "metadata": {},
   "outputs": [
    {
     "data": {
      "text/plain": [
       "array([[ 0.        ,  0.        ,  0.        ,  0.        ,  0.        ,\n",
       "         0.        ],\n",
       "       [-2.98897872, -2.80914317, -3.03251901, -2.89608562,  1.62261467,\n",
       "        -3.29570308],\n",
       "       [-1.29238517, -1.22248466, -1.57864618, -1.29526382,  7.7147    ,\n",
       "        -1.77962465],\n",
       "       ...,\n",
       "       [-0.80185693, -0.71135503, -0.8012728 , -0.80394396, -0.86348981,\n",
       "        -0.82126807],\n",
       "       [-2.15560728, -2.15399189, -2.15551893, -2.02833776, -2.17428732,\n",
       "        -2.17097113],\n",
       "       [-0.02976918, -0.02491725, -0.02979483,  2.4540726 , -0.14851815,\n",
       "        -0.34332423]])"
      ]
     },
     "execution_count": 355,
     "metadata": {},
     "output_type": "execute_result"
    }
   ],
   "source": [
    "Q"
   ]
  },
  {
   "cell_type": "code",
   "execution_count": 356,
   "metadata": {},
   "outputs": [
    {
     "name": "stderr",
     "output_type": "stream",
     "text": [
      "100%|██████████| 500/500 [00:00<00:00, 246347.00it/s]"
     ]
    },
    {
     "name": "stdout",
     "output_type": "stream",
     "text": [
      "[0, 4, 4, 4, 0, 0, 0, 0, 0, 0, 0, 0, 2, 0, 0, 0, 5, 0, 0, 0, 0, 3, 3, 3, 0, 0, 0, 0, 0, 0, 0, 0, 0, 0, 0, 0, 3, 0, 3, 0, 0, 0, 0, 0, 2, 0, 2, 2, 0, 0, 0, 0, 0, 0, 0, 0, 0, 2, 0, 1, 0, 0, 0, 0, 2, 0, 2, 2, 0, 0, 0, 0, 0, 0, 0, 0, 0, 2, 0, 0, 0, 3, 3, 3, 4, 0, 4, 4, 0, 3, 0, 3, 3, 3, 0, 0, 3, 5, 3, 0, 0, 1, 1, 1, 0, 0, 0, 0, 0, 0, 0, 0, 2, 0, 0, 0, 1, 0, 0, 0, 0, 3, 3, 3, 0, 0, 0, 0, 0, 0, 0, 0, 0, 0, 0, 0, 3, 0, 3, 0, 0, 0, 0, 0, 2, 0, 2, 2, 0, 0, 0, 0, 0, 0, 0, 0, 0, 2, 0, 0, 0, 0, 0, 0, 2, 0, 2, 2, 0, 0, 0, 0, 0, 0, 0, 0, 0, 2, 0, 0, 0, 3, 3, 3, 1, 0, 1, 1, 3, 3, 0, 3, 3, 3, 3, 0, 3, 1, 3, 3, 0, 1, 1, 1, 2, 0, 2, 2, 0, 0, 0, 0, 2, 2, 2, 0, 1, 2, 0, 2, 0, 1, 1, 1, 2, 0, 2, 2, 3, 3, 0, 3, 2, 2, 2, 0, 3, 2, 3, 2, 0, 3, 3, 3, 1, 0, 2, 1, 3, 3, 0, 3, 2, 2, 2, 0, 3, 2, 3, 2, 0, 3, 3, 3, 1, 0, 1, 1, 3, 3, 0, 3, 0, 0, 0, 0, 3, 2, 3, 0, 0, 3, 3, 3, 1, 0, 1, 1, 3, 3, 0, 3, 3, 3, 3, 0, 3, 1, 3, 3, 0, 1, 1, 1, 1, 0, 1, 1, 0, 0, 0, 0, 1, 1, 1, 0, 1, 1, 0, 1, 0, 1, 1, 1, 1, 0, 1, 1, 1, 1, 0, 1, 1, 1, 1, 0, 1, 1, 1, 1, 0, 1, 1, 1, 1, 0, 1, 1, 1, 1, 0, 1, 1, 1, 1, 0, 1, 1, 1, 1, 0, 1, 1, 1, 1, 0, 1, 1, 1, 1, 0, 1, 0, 0, 0, 0, 1, 1, 1, 0, 0, 3, 3, 3, 1, 0, 1, 1, 3, 3, 0, 3, 3, 3, 3, 0, 3, 1, 3, 3, 0, 1, 1, 1, 1, 0, 1, 1, 4, 4, 0, 4, 1, 1, 1, 0, 1, 1, 5, 1, 0, 1, 1, 1, 1, 0, 1, 1, 1, 1, 0, 1, 1, 1, 1, 0, 2, 1, 0, 3, 0, 1, 1, 1, 1, 0, 1, 1, 1, 1, 0, 1, 1, 1, 1, 0, 0, 0, 1, 0, 0, 1, 1, 1, 1, 0, 1, 1, 1, 1, 0, 1, 4, 4, 4, 0, 1, 1, 1, 5, 0, 0, 1, 3, 1, 0, 1, 1, 3, 1, 0, 1, 3, 3, 3, 0, 3, 1, 3, 3]\n"
     ]
    },
    {
     "name": "stderr",
     "output_type": "stream",
     "text": [
      "\n"
     ]
    }
   ],
   "source": [
    "policy=[]\n",
    "for i in tqdm(range(states)):\n",
    "    best_action = np.argmax(Q[i])\n",
    "    policy.append(best_action)\n",
    "\n",
    "print(policy)"
   ]
  },
  {
   "cell_type": "code",
   "execution_count": 357,
   "metadata": {},
   "outputs": [],
   "source": [
    "rewards_testing=[]\n",
    "steps_testing=[]"
   ]
  },
  {
   "cell_type": "code",
   "execution_count": 358,
   "metadata": {},
   "outputs": [
    {
     "name": "stdout",
     "output_type": "stream",
     "text": [
      "episode: 1\n",
      "-> total reward:  10\n",
      "-> total steps:  11\n",
      "episode: 2\n",
      "-> total reward:  10\n",
      "-> total steps:  11\n",
      "episode: 3\n",
      "-> total reward:  4\n",
      "-> total steps:  17\n",
      "episode: 4\n",
      "-> total reward:  5\n",
      "-> total steps:  16\n",
      "episode: 5\n",
      "-> total reward:  8\n",
      "-> total steps:  13\n",
      "episode: 6\n",
      "-> total reward:  11\n",
      "-> total steps:  10\n",
      "episode: 7\n",
      "-> total reward:  8\n",
      "-> total steps:  13\n",
      "episode: 8\n",
      "-> total reward:  8\n",
      "-> total steps:  13\n",
      "episode: 9\n",
      "-> total reward:  8\n",
      "-> total steps:  13\n",
      "episode: 10\n",
      "-> total reward:  13\n",
      "-> total steps:  8\n",
      "episode: 11\n",
      "-> total reward:  6\n",
      "-> total steps:  15\n",
      "episode: 12\n",
      "-> total reward:  13\n",
      "-> total steps:  8\n",
      "episode: 13\n",
      "-> total reward:  10\n",
      "-> total steps:  11\n",
      "episode: 14\n",
      "-> total reward:  9\n",
      "-> total steps:  12\n",
      "episode: 15\n",
      "-> total reward:  10\n",
      "-> total steps:  11\n",
      "episode: 16\n",
      "-> total reward:  7\n",
      "-> total steps:  14\n",
      "episode: 17\n",
      "-> total reward:  9\n",
      "-> total steps:  12\n",
      "episode: 18\n",
      "-> total reward:  9\n",
      "-> total steps:  12\n",
      "episode: 19\n",
      "-> total reward:  5\n",
      "-> total steps:  16\n",
      "episode: 20\n",
      "-> total reward:  8\n",
      "-> total steps:  13\n"
     ]
    }
   ],
   "source": [
    "i = 0\n",
    "while i< 20:\n",
    "    print(\"episode:\", i+1)\n",
    "    obs,_ = env.reset()\n",
    "    done = False\n",
    "    total_reward = 0\n",
    "    step_count = 0\n",
    "    while not done:\n",
    "        state = obs\n",
    "        action = policy[state]\n",
    "        obs, reward, done, _, _ = env.step(action)\n",
    "        total_reward += reward\n",
    "        step_count += 1\n",
    "        env.render()\n",
    "    i+=1\n",
    "    rewards_testing.append(total_reward)\n",
    "    steps_testing.append(step_count)\n",
    "    print('-> total reward: ', total_reward)\n",
    "    print('-> total steps: ', step_count)"
   ]
  },
  {
   "cell_type": "code",
   "execution_count": 359,
   "metadata": {},
   "outputs": [
    {
     "data": {
      "text/plain": [
       "[<matplotlib.lines.Line2D at 0x28529d50590>]"
      ]
     },
     "execution_count": 359,
     "metadata": {},
     "output_type": "execute_result"
    },
    {
     "data": {
      "image/png": "[encoded data removed]",
      "text/plain": [
       "<Figure size 1000x600 with 1 Axes>"
      ]
     },
     "metadata": {},
     "output_type": "display_data"
    }
   ],
   "source": [
    "# Plot steps\n",
    "plt.figure(figsize=(10, 6))\n",
    "plt.plot(steps_testing, color='blue', label='Episode steps')"
   ]
  },
  {
   "cell_type": "code",
   "execution_count": 360,
   "metadata": {},
   "outputs": [
    {
     "data": {
      "text/plain": [
       "[<matplotlib.lines.Line2D at 0x285296129f0>]"
      ]
     },
     "execution_count": 360,
     "metadata": {},
     "output_type": "execute_result"
    },
    {
     "data": {
      "image/png": "[encoded data removed]",
      "text/plain": [
       "<Figure size 1000x600 with 1 Axes>"
      ]
     },
     "metadata": {},
     "output_type": "display_data"
    }
   ],
   "source": [
    "# Plot rewards\n",
    "plt.figure(figsize=(10, 6))\n",
    "plt.plot(rewards_testing, color='blue', label='Episode steps')"
   ]
  },
  {
   "cell_type": "code",
   "execution_count": 361,
   "metadata": {},
   "outputs": [
    {
     "name": "stdout",
     "output_type": "stream",
     "text": [
      "average steps:  12.45\n",
      "Average rewards:  8.55\n"
     ]
    }
   ],
   "source": [
    "average_steps = np.mean(steps_testing)\n",
    "print(\"average steps: \", average_steps)\n",
    "average_rewards = np.mean(rewards_testing)\n",
    "print(\"Average rewards: \", average_rewards)"
   ]
  },
  {
   "cell_type": "code",
   "execution_count": 362,
   "metadata": {},
   "outputs": [
    {
     "name": "stdout",
     "output_type": "stream",
     "text": [
      "-> total reward:  [-1, -2, -3, -4, -5, -6, -7, -8, -9, -10, -11, -12, 8]\n",
      "-> total steps:  13\n"
     ]
    }
   ],
   "source": [
    "obs,_ = env.reset()\n",
    "done = False\n",
    "rewards = []\n",
    "total_reward = 0\n",
    "step_count = 0\n",
    "while not done:\n",
    "    state = obs\n",
    "    action = policy[state]\n",
    "    obs, reward, done, _, _ = env.step(action)\n",
    "    total_reward += reward\n",
    "    step_count += 1\n",
    "    \n",
    "    rewards.append(total_reward)\n",
    "    env.render()\n",
    "i+=1\n",
    "print('-> total reward: ', rewards)\n",
    "print('-> total steps: ', step_count)"
   ]
  },
  {
   "cell_type": "code",
   "execution_count": 363,
   "metadata": {},
   "outputs": [
    {
     "data": {
      "image/png": "[encoded data removed]",
      "text/plain": [
       "<Figure size 1000x600 with 1 Axes>"
      ]
     },
     "metadata": {},
     "output_type": "display_data"
    }
   ],
   "source": [
    "shifted_steps = [step + 1 for step in range(step_count)]\n",
    "\n",
    "# Plot rewards vs steps\n",
    "plt.figure(figsize=(10, 6))\n",
    "plt.plot(shifted_steps, rewards, marker='X')  # Use 'X' for markers\n",
    "plt.xlabel('Steps')\n",
    "plt.ylabel('Reward')\n",
    "plt.title('Reward vs Steps')\n",
    "plt.show()"
   ]
  }
 ],
 "metadata": {
  "kernelspec": {
   "display_name": "Python 3",
   "language": "python",
   "name": "python3"
  },
  "language_info": {
   "codemirror_mode": {
    "name": "ipython",
    "version": 3
   },
   "file_extension": ".py",
   "mimetype": "text/x-python",
   "name": "python",
   "nbconvert_exporter": "python",
   "pygments_lexer": "ipython3",
   "version": "3.12.0"
  },
  "orig_nbformat": 4
 },
 "nbformat": 4,
 "nbformat_minor": 2
}
