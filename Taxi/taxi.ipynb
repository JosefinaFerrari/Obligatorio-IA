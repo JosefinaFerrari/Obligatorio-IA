{
 "cells": [
  {
   "cell_type": "markdown",
   "metadata": {},
   "source": [
    "Esta notebook contiene bloques de código útiles para realizar Q-learning en el entorno \"Taxi\""
   ]
  },
  {
   "cell_type": "code",
   "execution_count": 395,
   "metadata": {},
   "outputs": [],
   "source": [
    "import numpy as np\n",
    "import random\n",
    "from taxi_env_extended import TaxiEnvExtended"
   ]
  },
  {
   "cell_type": "code",
   "execution_count": 396,
   "metadata": {},
   "outputs": [],
   "source": [
    "env = TaxiEnvExtended()"
   ]
  },
  {
   "cell_type": "markdown",
   "metadata": {},
   "source": [
    "Obtener la cantidad de estados y acciones"
   ]
  },
  {
   "cell_type": "code",
   "execution_count": 397,
   "metadata": {},
   "outputs": [],
   "source": [
    "actions = env.action_space.n\n",
    "states = env.observation_space.n"
   ]
  },
  {
   "cell_type": "markdown",
   "metadata": {},
   "source": [
    "Inicialización de la tabla Q"
   ]
  },
  {
   "cell_type": "code",
   "execution_count": 398,
   "metadata": {},
   "outputs": [
    {
     "data": {
      "text/plain": [
       "array([[0., 0., 0., 0., 0., 0.],\n",
       "       [0., 0., 0., 0., 0., 0.],\n",
       "       [0., 0., 0., 0., 0., 0.],\n",
       "       ...,\n",
       "       [0., 0., 0., 0., 0., 0.],\n",
       "       [0., 0., 0., 0., 0., 0.],\n",
       "       [0., 0., 0., 0., 0., 0.]])"
      ]
     },
     "execution_count": 398,
     "metadata": {},
     "output_type": "execute_result"
    }
   ],
   "source": [
    "Q = np.zeros((states, actions))\n",
    "Q"
   ]
  },
  {
   "cell_type": "markdown",
   "metadata": {},
   "source": [
    "Obtención de la acción a partir de la tabla Q"
   ]
  },
  {
   "cell_type": "code",
   "execution_count": 399,
   "metadata": {},
   "outputs": [],
   "source": [
    "def optimal_policy(state, Q):\n",
    "    action = np.argmax(Q[state])\n",
    "    return action"
   ]
  },
  {
   "cell_type": "markdown",
   "metadata": {},
   "source": [
    "Epsilon-Greedy Policy"
   ]
  },
  {
   "cell_type": "code",
   "execution_count": 400,
   "metadata": {},
   "outputs": [],
   "source": [
    "def epsilon_greedy_policy(state, Q, epsilon=0.1):\n",
    "    explore = np.random.binomial(1, epsilon)\n",
    "    if explore:\n",
    "        action = env.action_space.sample()\\\n",
    "    \n",
    "    else: # exploit\n",
    "        action = np.argmax(Q[state])\\\n",
    "        \n",
    "    return action"
   ]
  },
  {
   "cell_type": "markdown",
   "metadata": {},
   "source": [
    "Ejemplo de episodio "
   ]
  },
  {
   "cell_type": "code",
   "execution_count": 401,
   "metadata": {},
   "outputs": [
    {
     "name": "stdout",
     "output_type": "stream",
     "text": [
      "9\n",
      "-> 9 2 -1 29 False\n",
      "-> 29 0 -1 129 False\n",
      "-> 129 3 -1 109 False\n",
      "-> 109 4 -10 109 False\n",
      "-> 109 0 -1 209 False\n",
      "-> 209 3 -1 209 False\n",
      "-> 209 5 -10 209 False\n",
      "-> 209 0 -1 309 False\n",
      "-> 309 0 -1 409 False\n",
      "-> 409 0 -1 409 False\n",
      "-> 409 2 -1 409 False\n",
      "-> 409 0 -1 409 False\n",
      "-> 409 1 -1 309 False\n",
      "-> 309 0 -1 409 False\n",
      "-> 409 3 -1 409 False\n",
      "-> 409 4 -1 417 False\n",
      "-> 417 5 -1 409 False\n",
      "-> 409 0 -1 409 False\n",
      "-> 409 4 -1 417 False\n",
      "-> 417 3 -1 417 False\n",
      "-> 417 1 -1 317 False\n",
      "-> 317 1 -1 217 False\n",
      "-> 217 0 -1 317 False\n",
      "-> 317 0 -1 417 False\n",
      "-> 417 1 -1 317 False\n",
      "-> 317 1 -1 217 False\n",
      "-> 217 1 -1 117 False\n",
      "-> 117 0 -1 217 False\n",
      "-> 217 2 -1 237 False\n",
      "-> 237 0 -1 337 False\n",
      "-> 337 2 -1 357 False\n",
      "-> 357 0 -1 457 False\n",
      "-> 457 1 -1 357 False\n",
      "-> 357 1 -1 257 False\n",
      "-> 257 1 -1 157 False\n",
      "-> 157 0 -1 257 False\n",
      "-> 257 0 -1 357 False\n",
      "-> 357 0 -1 457 False\n",
      "-> 457 1 -1 357 False\n",
      "-> 357 0 -1 457 False\n",
      "-> 457 0 -1 457 False\n",
      "-> 457 1 -1 357 False\n",
      "-> 357 0 -1 457 False\n",
      "-> 457 3 -1 437 False\n",
      "-> 437 0 -1 437 False\n",
      "-> 437 2 -1 457 False\n",
      "-> 457 0 -1 457 False\n",
      "-> 457 2 -1 457 False\n",
      "-> 457 0 -1 457 False\n",
      "-> 457 3 -1 437 False\n",
      "-> 437 4 -10 437 False\n",
      "-> 437 0 -1 437 False\n",
      "-> 437 0 -1 437 False\n",
      "-> 437 0 -1 437 False\n",
      "-> 437 0 -1 437 False\n",
      "-> 437 3 -1 437 False\n",
      "-> 437 1 -1 337 False\n",
      "-> 337 5 -10 337 False\n",
      "-> 337 0 -1 437 False\n",
      "-> 437 2 -1 457 False\n",
      "-> 457 0 -1 457 False\n",
      "-> 457 0 -1 457 False\n",
      "-> 457 0 -1 457 False\n",
      "-> 457 0 -1 457 False\n",
      "-> 457 0 -1 457 False\n",
      "-> 457 0 -1 457 False\n",
      "-> 457 0 -1 457 False\n",
      "-> 457 4 -10 457 False\n",
      "-> 457 0 -1 457 False\n",
      "-> 457 0 -1 457 False\n",
      "-> 457 0 -1 457 False\n",
      "-> 457 3 -1 437 False\n",
      "-> 437 3 -1 437 False\n",
      "-> 437 3 -1 437 False\n",
      "-> 437 0 -1 437 False\n",
      "-> 437 0 -1 437 False\n",
      "-> 437 0 -1 437 False\n",
      "-> 437 0 -1 437 False\n",
      "-> 437 0 -1 437 False\n",
      "-> 437 0 -1 437 False\n",
      "-> 437 0 -1 437 False\n",
      "-> 437 0 -1 437 False\n",
      "-> 437 5 -10 437 False\n",
      "-> 437 0 -1 437 False\n",
      "-> 437 0 -1 437 False\n",
      "-> 437 4 -10 437 False\n",
      "-> 437 0 -1 437 False\n",
      "-> 437 0 -1 437 False\n",
      "-> 437 0 -1 437 False\n",
      "-> 437 0 -1 437 False\n",
      "-> 437 1 -1 337 False\n",
      "-> 337 0 -1 437 False\n",
      "-> 437 0 -1 437 False\n",
      "-> 437 0 -1 437 False\n",
      "-> 437 0 -1 437 False\n",
      "-> 437 4 -10 437 False\n",
      "-> 437 0 -1 437 False\n",
      "-> 437 0 -1 437 False\n",
      "-> 437 0 -1 437 False\n",
      "-> 437 0 -1 437 False\n",
      "-> 437 0 -1 437 False\n",
      "-> 437 0 -1 437 False\n",
      "-> 437 1 -1 337 False\n",
      "-> 337 0 -1 437 False\n",
      "-> 437 0 -1 437 False\n",
      "-> 437 1 -1 337 False\n",
      "-> 337 0 -1 437 False\n",
      "-> 437 1 -1 337 False\n",
      "-> 337 5 -10 337 False\n",
      "-> 337 1 -1 237 False\n",
      "-> 237 0 -1 337 False\n",
      "-> 337 5 -10 337 False\n",
      "-> 337 0 -1 437 False\n",
      "-> 437 0 -1 437 False\n",
      "-> 437 3 -1 437 False\n",
      "-> 437 0 -1 437 False\n",
      "-> 437 4 -10 437 False\n",
      "-> 437 0 -1 437 False\n",
      "-> 437 0 -1 437 False\n",
      "-> 437 0 -1 437 False\n",
      "-> 437 0 -1 437 False\n",
      "-> 437 0 -1 437 False\n",
      "-> 437 5 -10 437 False\n",
      "-> 437 4 -10 437 False\n",
      "-> 437 4 -10 437 False\n",
      "-> 437 5 -10 437 False\n",
      "-> 437 0 -1 437 False\n",
      "-> 437 0 -1 437 False\n",
      "-> 437 0 -1 437 False\n",
      "-> 437 0 -1 437 False\n",
      "-> 437 0 -1 437 False\n",
      "-> 437 0 -1 437 False\n",
      "-> 437 0 -1 437 False\n",
      "-> 437 3 -1 437 False\n",
      "-> 437 0 -1 437 False\n",
      "-> 437 0 -1 437 False\n",
      "-> 437 4 -10 437 False\n",
      "-> 437 0 -1 437 False\n",
      "-> 437 0 -1 437 False\n",
      "-> 437 1 -1 337 False\n",
      "-> 337 1 -1 237 False\n",
      "-> 237 0 -1 337 False\n",
      "-> 337 0 -1 437 False\n",
      "-> 437 0 -1 437 False\n",
      "-> 437 3 -1 437 False\n",
      "-> 437 1 -1 337 False\n",
      "-> 337 1 -1 237 False\n",
      "-> 237 0 -1 337 False\n",
      "-> 337 2 -1 357 False\n",
      "-> 357 5 -10 357 False\n",
      "-> 357 5 -10 357 False\n",
      "-> 357 4 -10 357 False\n",
      "-> 357 1 -1 257 False\n",
      "-> 257 0 -1 357 False\n",
      "-> 357 0 -1 457 False\n",
      "-> 457 0 -1 457 False\n",
      "-> 457 5 -10 457 False\n",
      "-> 457 0 -1 457 False\n",
      "-> 457 2 -1 457 False\n",
      "-> 457 0 -1 457 False\n",
      "-> 457 0 -1 457 False\n",
      "-> 457 0 -1 457 False\n",
      "-> 457 0 -1 457 False\n",
      "-> 457 4 -10 457 False\n",
      "-> 457 5 -10 457 False\n",
      "-> 457 0 -1 457 False\n",
      "-> 457 4 -10 457 False\n",
      "-> 457 0 -1 457 False\n",
      "-> 457 1 -1 357 False\n",
      "-> 357 0 -1 457 False\n",
      "-> 457 0 -1 457 False\n",
      "-> 457 3 -1 437 False\n",
      "-> 437 4 -10 437 False\n",
      "-> 437 3 -1 437 False\n",
      "-> 437 3 -1 437 False\n",
      "-> 437 0 -1 437 False\n",
      "-> 437 0 -1 437 False\n",
      "-> 437 5 -10 437 False\n",
      "-> 437 1 -1 337 False\n",
      "-> 337 0 -1 437 False\n",
      "-> 437 0 -1 437 False\n",
      "-> 437 3 -1 437 False\n",
      "-> 437 0 -1 437 False\n",
      "-> 437 5 -10 437 False\n",
      "-> 437 0 -1 437 False\n",
      "-> 437 2 -1 457 False\n",
      "-> 457 5 -10 457 False\n",
      "-> 457 0 -1 457 False\n",
      "-> 457 0 -1 457 False\n",
      "-> 457 0 -1 457 False\n",
      "-> 457 4 -10 457 False\n",
      "-> 457 5 -10 457 False\n",
      "-> 457 0 -1 457 False\n",
      "-> 457 0 -1 457 False\n",
      "-> 457 2 -1 457 False\n",
      "-> 457 5 -10 457 False\n",
      "-> 457 0 -1 457 False\n",
      "-> 457 0 -1 457 False\n",
      "-> 457 4 -10 457 False\n",
      "-> 457 0 -1 457 True\n",
      "total_reward -479\n",
      "total_steps 200\n"
     ]
    }
   ],
   "source": [
    "obs,_ = env.reset()\n",
    "print(obs)\n",
    "done = False\n",
    "total_reward = 0\n",
    "step_count = 0\n",
    "while not done:\n",
    "    state = obs\n",
    "    action = epsilon_greedy_policy(state, Q, 0.5)\n",
    "    obs, reward, done, _, _ = env.step(action)\n",
    "    total_reward += reward\n",
    "    step_count += 1\n",
    "    print('->', state, action, reward, obs, done)\n",
    "    env.render()\n",
    "print('total_reward', total_reward)\n",
    "print('total_steps', step_count)"
   ]
  },
  {
   "cell_type": "markdown",
   "metadata": {},
   "source": [
    "Generar muchos episodios"
   ]
  },
  {
   "cell_type": "code",
   "execution_count": 402,
   "metadata": {},
   "outputs": [
    {
     "data": {
      "text/plain": [
       "200"
      ]
     },
     "execution_count": 402,
     "metadata": {},
     "output_type": "execute_result"
    }
   ],
   "source": [
    "max_steps = env.max_steps\n",
    "max_steps"
   ]
  },
  {
   "cell_type": "code",
   "execution_count": 403,
   "metadata": {},
   "outputs": [],
   "source": [
    "episodes = 80000"
   ]
  },
  {
   "cell_type": "code",
   "execution_count": 404,
   "metadata": {},
   "outputs": [
    {
     "data": {
      "text/plain": [
       "0.004975124378109453"
      ]
     },
     "execution_count": 404,
     "metadata": {},
     "output_type": "execute_result"
    }
   ],
   "source": [
    "alpha=1 / (max_steps+1)\n",
    "alpha"
   ]
  },
  {
   "cell_type": "code",
   "execution_count": 405,
   "metadata": {},
   "outputs": [],
   "source": [
    "gamma = 0.9"
   ]
  },
  {
   "cell_type": "code",
   "execution_count": 406,
   "metadata": {},
   "outputs": [],
   "source": [
    "epsilon =0.99"
   ]
  },
  {
   "cell_type": "code",
   "execution_count": 407,
   "metadata": {},
   "outputs": [],
   "source": [
    "rewards=[]\n",
    "steps=[]"
   ]
  },
  {
   "cell_type": "code",
   "execution_count": 408,
   "metadata": {},
   "outputs": [],
   "source": [
    "from tqdm import tqdm"
   ]
  },
  {
   "cell_type": "code",
   "execution_count": 409,
   "metadata": {},
   "outputs": [
    {
     "name": "stderr",
     "output_type": "stream",
     "text": [
      "100%|██████████| 80000/80000 [01:20<00:00, 990.39it/s] "
     ]
    },
    {
     "name": "stdout",
     "output_type": "stream",
     "text": [
      "76932\n"
     ]
    },
    {
     "name": "stderr",
     "output_type": "stream",
     "text": [
      "\n"
     ]
    }
   ],
   "source": [
    "i = 0\n",
    "success = 0\n",
    "for i in tqdm(range(episodes)):\n",
    "    \n",
    "    total_reward = 0    \n",
    "    step_count = 0\n",
    "    obs, _ = env.reset()\n",
    "    done=False\n",
    "    while not done:\n",
    "        state = obs\n",
    "        action = epsilon_greedy_policy(state, Q, epsilon)\n",
    "        obs, reward, done, _, _ = env.step(action)\n",
    "        \n",
    "        total_reward += reward\n",
    "        step_count += 1\n",
    "        if (reward ==20):\n",
    "            success+=1\n",
    "                      \n",
    "        value = Q[state][action] + alpha*(reward + gamma*np.max(Q[obs]) - Q[state][action])\n",
    "        Q[state][action] = value\n",
    "    \n",
    "    rewards.append(total_reward)\n",
    "    steps.append(step_count)\n",
    "    i=i+1\n",
    "    if (i %  4== 0) and (epsilon > 0.01):  \n",
    "        epsilon *= 0.99\n",
    "print(success)\n"
   ]
  },
  {
   "cell_type": "code",
   "execution_count": 410,
   "metadata": {},
   "outputs": [
    {
     "data": {
      "text/plain": [
       "0.009920974201040588"
      ]
     },
     "execution_count": 410,
     "metadata": {},
     "output_type": "execute_result"
    }
   ],
   "source": [
    "epsilon"
   ]
  },
  {
   "cell_type": "code",
   "execution_count": 411,
   "metadata": {},
   "outputs": [
    {
     "name": "stdout",
     "output_type": "stream",
     "text": [
      "96.165 %\n"
     ]
    }
   ],
   "source": [
    "print(success/episodes*100, '%')"
   ]
  },
  {
   "cell_type": "code",
   "execution_count": 412,
   "metadata": {},
   "outputs": [],
   "source": [
    "import matplotlib.pyplot as plt\n"
   ]
  },
  {
   "cell_type": "code",
   "execution_count": 423,
   "metadata": {},
   "outputs": [
    {
     "data": {
      "image/png": "[encoded data removed]",
      "text/plain": [
       "<Figure size 1000x600 with 1 Axes>"
      ]
     },
     "metadata": {},
     "output_type": "display_data"
    }
   ],
   "source": [
    "plt.figure(figsize=(10, 6))\n",
    "plt.plot(rewards, label='Rewards')\n",
    "plt.axhline(y=0, color='orange', linestyle='--', label='Baseline')\n",
    "plt.ylabel('Total rewards')\n",
    "plt.xlabel('Episodes') \n",
    "plt.show()"
   ]
  },
  {
   "cell_type": "code",
   "execution_count": 414,
   "metadata": {},
   "outputs": [
    {
     "data": {
      "text/plain": [
       "array([[ 0.        ,  0.        ,  0.        ,  0.        ,  0.        ,\n",
       "         0.        ],\n",
       "       [-2.98054358, -2.96983758, -3.06891477, -2.8942729 ,  1.62261467,\n",
       "        -3.33297035],\n",
       "       [-1.34501153, -1.46473975, -1.57694866, -1.26423595,  7.7147    ,\n",
       "        -1.88607943],\n",
       "       ...,\n",
       "       [-0.7882399 , -0.60619239, -0.78346481, -0.78615728, -0.8279174 ,\n",
       "        -0.78336444],\n",
       "       [-2.14630702, -2.14459692, -2.1435719 , -1.89687141, -2.16290182,\n",
       "        -2.18360287],\n",
       "       [-0.03439286, -0.02998923, -0.02478424,  3.00207373, -0.09925497,\n",
       "        -0.04975124]])"
      ]
     },
     "execution_count": 414,
     "metadata": {},
     "output_type": "execute_result"
    }
   ],
   "source": [
    "Q"
   ]
  },
  {
   "cell_type": "code",
   "execution_count": 415,
   "metadata": {},
   "outputs": [
    {
     "name": "stderr",
     "output_type": "stream",
     "text": [
      "100%|██████████| 500/500 [00:00<00:00, 230735.17it/s]"
     ]
    },
    {
     "name": "stdout",
     "output_type": "stream",
     "text": [
      "[0, 4, 4, 4, 0, 0, 1, 0, 0, 0, 0, 0, 0, 0, 0, 0, 5, 0, 0, 0, 0, 3, 3, 3, 0, 0, 0, 0, 0, 0, 0, 0, 0, 0, 0, 0, 3, 0, 3, 0, 0, 0, 0, 0, 2, 0, 2, 2, 0, 0, 0, 0, 0, 0, 0, 0, 0, 2, 0, 0, 0, 0, 0, 0, 2, 0, 2, 2, 0, 0, 0, 0, 0, 0, 0, 0, 0, 2, 0, 0, 0, 3, 0, 3, 4, 0, 4, 4, 3, 3, 0, 3, 0, 0, 0, 0, 3, 5, 3, 0, 0, 1, 1, 1, 0, 0, 0, 0, 0, 0, 0, 0, 0, 2, 0, 0, 1, 0, 0, 0, 0, 3, 3, 3, 0, 0, 0, 0, 0, 0, 0, 0, 0, 0, 0, 0, 3, 0, 0, 0, 0, 0, 0, 0, 2, 0, 2, 2, 0, 0, 0, 0, 0, 0, 0, 0, 0, 2, 0, 0, 0, 0, 0, 0, 2, 0, 2, 2, 0, 0, 0, 0, 0, 0, 0, 0, 0, 2, 0, 0, 0, 3, 3, 3, 1, 0, 1, 1, 3, 3, 0, 3, 3, 3, 3, 0, 3, 1, 3, 3, 0, 1, 1, 1, 2, 0, 2, 2, 0, 0, 0, 0, 2, 2, 2, 0, 1, 2, 0, 2, 0, 1, 1, 1, 2, 0, 2, 2, 3, 3, 0, 3, 2, 2, 2, 0, 3, 2, 3, 2, 0, 3, 3, 3, 1, 0, 2, 1, 3, 3, 0, 3, 2, 2, 2, 0, 3, 2, 3, 2, 0, 3, 3, 3, 1, 0, 1, 1, 3, 3, 0, 3, 0, 0, 0, 0, 3, 2, 3, 0, 0, 3, 3, 3, 1, 0, 1, 1, 3, 3, 0, 3, 3, 3, 3, 0, 3, 1, 3, 3, 0, 1, 1, 1, 1, 0, 1, 1, 0, 0, 0, 0, 1, 1, 1, 0, 1, 1, 0, 1, 0, 1, 1, 1, 1, 0, 1, 1, 1, 1, 0, 1, 1, 1, 1, 0, 1, 1, 1, 1, 0, 1, 1, 1, 1, 0, 1, 1, 1, 1, 0, 1, 1, 1, 1, 0, 1, 1, 1, 1, 0, 1, 1, 1, 1, 0, 1, 1, 1, 1, 0, 1, 0, 0, 0, 0, 1, 1, 1, 0, 0, 3, 3, 3, 1, 0, 1, 1, 3, 3, 0, 3, 3, 3, 3, 0, 3, 1, 3, 3, 0, 1, 1, 1, 1, 0, 1, 1, 4, 4, 0, 4, 1, 1, 1, 0, 1, 1, 5, 1, 0, 1, 1, 1, 1, 0, 1, 1, 1, 1, 0, 1, 1, 1, 1, 0, 3, 2, 1, 3, 0, 1, 1, 1, 1, 0, 1, 1, 1, 1, 0, 1, 1, 1, 1, 0, 2, 1, 0, 3, 0, 1, 1, 1, 1, 0, 1, 1, 1, 1, 0, 1, 4, 4, 4, 0, 1, 1, 1, 5, 0, 1, 1, 1, 1, 0, 1, 1, 1, 1, 0, 3, 3, 3, 3, 0, 3, 1, 3, 3]\n"
     ]
    },
    {
     "name": "stderr",
     "output_type": "stream",
     "text": [
      "\n"
     ]
    }
   ],
   "source": [
    "policy=[]\n",
    "for i in tqdm(range(states)):\n",
    "    best_action = np.argmax(Q[i])\n",
    "    policy.append(best_action)\n",
    "\n",
    "print(policy)"
   ]
  },
  {
   "cell_type": "code",
   "execution_count": 416,
   "metadata": {},
   "outputs": [],
   "source": [
    "rewards_testing=[]\n",
    "steps_testing=[]"
   ]
  },
  {
   "cell_type": "code",
   "execution_count": 417,
   "metadata": {},
   "outputs": [
    {
     "name": "stdout",
     "output_type": "stream",
     "text": [
      "episode: 1\n",
      "-> total reward:  6\n",
      "-> total steps:  15\n",
      "episode: 2\n",
      "-> total reward:  6\n",
      "-> total steps:  15\n",
      "episode: 3\n",
      "-> total reward:  4\n",
      "-> total steps:  17\n",
      "episode: 4\n",
      "-> total reward:  4\n",
      "-> total steps:  17\n",
      "episode: 5\n",
      "-> total reward:  6\n",
      "-> total steps:  15\n",
      "episode: 6\n",
      "-> total reward:  8\n",
      "-> total steps:  13\n",
      "episode: 7\n",
      "-> total reward:  12\n",
      "-> total steps:  9\n",
      "episode: 8\n",
      "-> total reward:  7\n",
      "-> total steps:  14\n",
      "episode: 9\n",
      "-> total reward:  6\n",
      "-> total steps:  15\n",
      "episode: 10\n",
      "-> total reward:  12\n",
      "-> total steps:  9\n",
      "episode: 11\n",
      "-> total reward:  5\n",
      "-> total steps:  16\n",
      "episode: 12\n",
      "-> total reward:  7\n",
      "-> total steps:  14\n",
      "episode: 13\n",
      "-> total reward:  12\n",
      "-> total steps:  9\n",
      "episode: 14\n",
      "-> total reward:  8\n",
      "-> total steps:  13\n",
      "episode: 15\n",
      "-> total reward:  5\n",
      "-> total steps:  16\n",
      "episode: 16\n",
      "-> total reward:  9\n",
      "-> total steps:  12\n",
      "episode: 17\n",
      "-> total reward:  5\n",
      "-> total steps:  16\n",
      "episode: 18\n",
      "-> total reward:  6\n",
      "-> total steps:  15\n",
      "episode: 19\n",
      "-> total reward:  5\n",
      "-> total steps:  16\n",
      "episode: 20\n",
      "-> total reward:  9\n",
      "-> total steps:  12\n"
     ]
    }
   ],
   "source": [
    "i = 0\n",
    "while i< 20:\n",
    "    print(\"episode:\", i+1)\n",
    "    obs,_ = env.reset()\n",
    "    done = False\n",
    "    total_reward = 0\n",
    "    step_count = 0\n",
    "    while not done:\n",
    "        state = obs\n",
    "        action = policy[state]\n",
    "        obs, reward, done, _, _ = env.step(action)\n",
    "        total_reward += reward\n",
    "        step_count += 1\n",
    "        env.render()\n",
    "    i+=1\n",
    "    rewards_testing.append(total_reward)\n",
    "    steps_testing.append(step_count)\n",
    "    print('-> total reward: ', total_reward)\n",
    "    print('-> total steps: ', step_count)"
   ]
  },
  {
   "cell_type": "code",
   "execution_count": 418,
   "metadata": {},
   "outputs": [
    {
     "data": {
      "text/plain": [
       "<matplotlib.lines.Line2D at 0x2852b120e60>"
      ]
     },
     "execution_count": 418,
     "metadata": {},
     "output_type": "execute_result"
    },
    {
     "data": {
      "image/png": "[encoded data removed]",
      "text/plain": [
       "<Figure size 1000x600 with 1 Axes>"
      ]
     },
     "metadata": {},
     "output_type": "display_data"
    }
   ],
   "source": [
    "# Plot rewards\n",
    "plt.figure(figsize=(10, 6))\n",
    "plt.plot(rewards_testing, color='blue', label='Episode steps')\n",
    "plt.axhline(y=0, color='gray', linestyle='--', label='Baseline')"
   ]
  },
  {
   "cell_type": "code",
   "execution_count": 419,
   "metadata": {},
   "outputs": [
    {
     "name": "stdout",
     "output_type": "stream",
     "text": [
      "average steps:  13.9\n",
      "Average rewards:  7.1\n"
     ]
    }
   ],
   "source": [
    "average_steps = np.mean(steps_testing)\n",
    "print(\"average steps: \", average_steps)\n",
    "average_rewards = np.mean(rewards_testing)\n",
    "print(\"Average rewards: \", average_rewards)"
   ]
  },
  {
   "cell_type": "code",
   "execution_count": 420,
   "metadata": {},
   "outputs": [
    {
     "name": "stdout",
     "output_type": "stream",
     "text": [
      "-> total reward:  [-1, -2, -3, -4, -5, -6, -7, -8, -9, -10, -11, -12, -13, -14, 6]\n",
      "-> total steps:  15\n"
     ]
    }
   ],
   "source": [
    "obs,_ = env.reset()\n",
    "done = False\n",
    "rewardss = []\n",
    "total_reward = 0\n",
    "step_count = 0\n",
    "while not done:\n",
    "    state = obs\n",
    "    action = policy[state]\n",
    "    obs, reward, done, _, _ = env.step(action)\n",
    "    total_reward += reward\n",
    "    step_count += 1\n",
    "    \n",
    "    rewardss.append(total_reward)\n",
    "    env.render()\n",
    "i+=1\n",
    "print('-> total reward: ', rewardss)\n",
    "print('-> total steps: ', step_count)"
   ]
  },
  {
   "cell_type": "code",
   "execution_count": 421,
   "metadata": {},
   "outputs": [
    {
     "data": {
      "image/png": "[encoded data removed]",
      "text/plain": [
       "<Figure size 1000x600 with 1 Axes>"
      ]
     },
     "metadata": {},
     "output_type": "display_data"
    }
   ],
   "source": [
    "shifted_steps = [step + 1 for step in range(step_count)]\n",
    "\n",
    "# Plot rewards vs steps\n",
    "plt.figure(figsize=(10, 6))\n",
    "plt.plot(shifted_steps, rewardss, marker='X')  # Use 'X' for markers\n",
    "plt.axhline(y=0, color='gray', linestyle='--', label='Baseline')\n",
    "plt.xlabel('Steps')\n",
    "plt.ylabel('Reward')\n",
    "plt.title('Reward vs Steps')\n",
    "plt.show()"
   ]
  }
 ],
 "metadata": {
  "kernelspec": {
   "display_name": "Python 3",
   "language": "python",
   "name": "python3"
  },
  "language_info": {
   "codemirror_mode": {
    "name": "ipython",
    "version": 3
   },
   "file_extension": ".py",
   "mimetype": "text/x-python",
   "name": "python",
   "nbconvert_exporter": "python",
   "pygments_lexer": "ipython3",
   "version": "3.12.0"
  },
  "orig_nbformat": 4
 },
 "nbformat": 4,
 "nbformat_minor": 2
}
