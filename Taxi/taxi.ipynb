{
 "cells": [
  {
   "cell_type": "markdown",
   "metadata": {},
   "source": [
    "Esta notebook contiene bloques de código útiles para realizar Q-learning en el entorno \"Taxi\""
   ]
  },
  {
   "cell_type": "code",
   "execution_count": 28,
   "metadata": {},
   "outputs": [],
   "source": [
    "import numpy as np\n",
    "import random\n",
    "from taxi_env_extended import TaxiEnvExtended"
   ]
  },
  {
   "cell_type": "code",
   "execution_count": 29,
   "metadata": {},
   "outputs": [],
   "source": [
    "env = TaxiEnvExtended()"
   ]
  },
  {
   "cell_type": "markdown",
   "metadata": {},
   "source": [
    "Obtener la cantidad de estados y acciones"
   ]
  },
  {
   "cell_type": "code",
   "execution_count": 30,
   "metadata": {},
   "outputs": [],
   "source": [
    "actions = env.action_space.n\n",
    "states = env.observation_space.n"
   ]
  },
  {
   "cell_type": "markdown",
   "metadata": {},
   "source": [
    "Inicialización de la tabla Q"
   ]
  },
  {
   "cell_type": "code",
   "execution_count": 31,
   "metadata": {},
   "outputs": [
    {
     "data": {
      "text/plain": [
       "array([[0., 0., 0., 0., 0., 0.],\n",
       "       [0., 0., 0., 0., 0., 0.],\n",
       "       [0., 0., 0., 0., 0., 0.],\n",
       "       ...,\n",
       "       [0., 0., 0., 0., 0., 0.],\n",
       "       [0., 0., 0., 0., 0., 0.],\n",
       "       [0., 0., 0., 0., 0., 0.]])"
      ]
     },
     "execution_count": 31,
     "metadata": {},
     "output_type": "execute_result"
    }
   ],
   "source": [
    "Q = np.zeros((states, actions))\n",
    "Q"
   ]
  },
  {
   "cell_type": "markdown",
   "metadata": {},
   "source": [
    "Obtención de la acción a partir de la tabla Q"
   ]
  },
  {
   "cell_type": "code",
   "execution_count": 32,
   "metadata": {},
   "outputs": [],
   "source": [
    "def optimal_policy(state, Q):\n",
    "    action = np.argmax(Q[state])\n",
    "    return action"
   ]
  },
  {
   "cell_type": "markdown",
   "metadata": {},
   "source": [
    "Epsilon-Greedy Policy"
   ]
  },
  {
   "cell_type": "code",
   "execution_count": 33,
   "metadata": {},
   "outputs": [],
   "source": [
    "def epsilon_greedy_policy(state, Q, epsilon=0.1):\n",
    "    explore = np.random.binomial(1, epsilon)\n",
    "    if explore:\n",
    "        action = env.action_space.sample()\\\n",
    "    \n",
    "    else: # exploit\n",
    "        action = np.argmax(Q[state])\\\n",
    "        \n",
    "    return action"
   ]
  },
  {
   "cell_type": "markdown",
   "metadata": {},
   "source": [
    "Ejemplo de episodio "
   ]
  },
  {
   "cell_type": "code",
   "execution_count": 34,
   "metadata": {},
   "outputs": [
    {
     "name": "stdout",
     "output_type": "stream",
     "text": [
      "472\n",
      "-> 472 0 -1 472 False\n",
      "-> 472 0 -1 472 False\n",
      "-> 472 0 -1 472 False\n",
      "-> 472 0 -1 472 False\n",
      "-> 472 3 -1 472 False\n",
      "-> 472 0 -1 472 False\n",
      "-> 472 5 -10 472 False\n",
      "-> 472 0 -1 472 False\n",
      "-> 472 0 -1 472 False\n",
      "-> 472 5 -10 472 False\n",
      "-> 472 0 -1 472 False\n",
      "-> 472 3 -1 472 False\n",
      "-> 472 4 -1 476 False\n",
      "-> 476 4 -10 476 False\n",
      "-> 476 0 -1 476 False\n",
      "-> 476 0 -1 476 False\n",
      "-> 476 0 -1 476 False\n",
      "-> 476 3 -1 476 False\n",
      "-> 476 0 -1 476 False\n",
      "-> 476 4 -10 476 False\n",
      "-> 476 0 -1 476 False\n",
      "-> 476 0 -1 476 False\n",
      "-> 476 1 -1 376 False\n",
      "-> 376 4 -10 376 False\n",
      "-> 376 1 -1 276 False\n",
      "-> 276 1 -1 176 False\n",
      "-> 176 5 -10 176 False\n",
      "-> 176 3 -1 156 False\n",
      "-> 156 0 -1 256 False\n",
      "-> 256 0 -1 356 False\n",
      "-> 356 0 -1 456 False\n",
      "-> 456 0 -1 456 False\n",
      "-> 456 0 -1 456 False\n",
      "-> 456 1 -1 356 False\n",
      "-> 356 0 -1 456 False\n",
      "-> 456 2 -1 456 False\n",
      "-> 456 0 -1 456 False\n",
      "-> 456 5 -10 456 False\n",
      "-> 456 0 -1 456 False\n",
      "-> 456 0 -1 456 False\n",
      "-> 456 1 -1 356 False\n",
      "-> 356 0 -1 456 False\n",
      "-> 456 0 -1 456 False\n",
      "-> 456 0 -1 456 False\n",
      "-> 456 0 -1 456 False\n",
      "-> 456 0 -1 456 False\n",
      "-> 456 5 -10 456 False\n",
      "-> 456 5 -10 456 False\n",
      "-> 456 0 -1 456 False\n",
      "-> 456 0 -1 456 False\n",
      "-> 456 4 -10 456 False\n",
      "-> 456 0 -1 456 False\n",
      "-> 456 5 -10 456 False\n",
      "-> 456 0 -1 456 False\n",
      "-> 456 0 -1 456 False\n",
      "-> 456 0 -1 456 False\n",
      "-> 456 3 -1 436 False\n",
      "-> 436 0 -1 436 False\n",
      "-> 436 0 -1 436 False\n",
      "-> 436 4 -10 436 False\n",
      "-> 436 0 -1 436 False\n",
      "-> 436 0 -1 436 False\n",
      "-> 436 0 -1 436 False\n",
      "-> 436 0 -1 436 False\n",
      "-> 436 0 -1 436 False\n",
      "-> 436 0 -1 436 False\n",
      "-> 436 0 -1 436 False\n",
      "-> 436 0 -1 436 False\n",
      "-> 436 3 -1 436 False\n",
      "-> 436 5 -10 436 False\n",
      "-> 436 0 -1 436 False\n",
      "-> 436 0 -1 436 False\n",
      "-> 436 0 -1 436 False\n",
      "-> 436 0 -1 436 False\n",
      "-> 436 0 -1 436 False\n",
      "-> 436 1 -1 336 False\n",
      "-> 336 1 -1 236 False\n",
      "-> 236 3 -1 216 False\n",
      "-> 216 0 -1 316 False\n",
      "-> 316 5 -10 316 False\n",
      "-> 316 0 -1 416 False\n",
      "-> 416 2 -1 416 False\n",
      "-> 416 3 -1 416 False\n",
      "-> 416 1 -1 316 False\n",
      "-> 316 3 -1 316 False\n",
      "-> 316 0 -1 416 False\n",
      "-> 416 0 -1 416 False\n",
      "-> 416 3 -1 416 False\n",
      "-> 416 4 -10 416 False\n",
      "-> 416 0 -1 416 False\n",
      "-> 416 0 -1 416 False\n",
      "-> 416 2 -1 416 False\n",
      "-> 416 4 -10 416 False\n",
      "-> 416 0 -1 416 False\n",
      "-> 416 5 -1 408 False\n",
      "-> 408 4 -1 416 False\n",
      "-> 416 0 -1 416 False\n",
      "-> 416 0 -1 416 False\n",
      "-> 416 5 -1 408 False\n",
      "-> 408 0 -1 408 False\n",
      "-> 408 1 -1 308 False\n",
      "-> 308 3 -1 308 False\n",
      "-> 308 0 -1 408 False\n",
      "-> 408 0 -1 408 False\n",
      "-> 408 0 -1 408 False\n",
      "-> 408 0 -1 408 False\n",
      "-> 408 0 -1 408 False\n",
      "-> 408 3 -1 408 False\n",
      "-> 408 0 -1 408 False\n",
      "-> 408 0 -1 408 False\n",
      "-> 408 1 -1 308 False\n",
      "-> 308 0 -1 408 False\n",
      "-> 408 5 -10 408 False\n",
      "-> 408 0 -1 408 False\n",
      "-> 408 0 -1 408 False\n",
      "-> 408 2 -1 408 False\n",
      "-> 408 0 -1 408 False\n",
      "-> 408 0 -1 408 False\n",
      "-> 408 5 -10 408 False\n",
      "-> 408 0 -1 408 False\n",
      "-> 408 3 -1 408 False\n",
      "-> 408 0 -1 408 False\n",
      "-> 408 0 -1 408 False\n",
      "-> 408 1 -1 308 False\n",
      "-> 308 0 -1 408 False\n",
      "-> 408 2 -1 408 False\n",
      "-> 408 3 -1 408 False\n",
      "-> 408 1 -1 308 False\n",
      "-> 308 0 -1 408 False\n",
      "-> 408 0 -1 408 False\n",
      "-> 408 2 -1 408 False\n",
      "-> 408 0 -1 408 False\n",
      "-> 408 0 -1 408 False\n",
      "-> 408 2 -1 408 False\n",
      "-> 408 1 -1 308 False\n",
      "-> 308 0 -1 408 False\n",
      "-> 408 3 -1 408 False\n",
      "-> 408 0 -1 408 False\n",
      "-> 408 4 -1 416 False\n",
      "-> 416 0 -1 416 False\n",
      "-> 416 0 -1 416 False\n",
      "-> 416 5 -1 408 False\n",
      "-> 408 5 -10 408 False\n",
      "-> 408 0 -1 408 False\n",
      "-> 408 0 -1 408 False\n",
      "-> 408 0 -1 408 False\n",
      "-> 408 0 -1 408 False\n",
      "-> 408 5 -10 408 False\n",
      "-> 408 0 -1 408 False\n",
      "-> 408 0 -1 408 False\n",
      "-> 408 0 -1 408 False\n",
      "-> 408 0 -1 408 False\n",
      "-> 408 0 -1 408 False\n",
      "-> 408 5 -10 408 False\n",
      "-> 408 0 -1 408 False\n",
      "-> 408 2 -1 408 False\n",
      "-> 408 0 -1 408 False\n",
      "-> 408 4 -1 416 False\n",
      "-> 416 0 -1 416 False\n",
      "-> 416 0 -1 416 False\n",
      "-> 416 0 -1 416 False\n",
      "-> 416 0 -1 416 False\n",
      "-> 416 5 -1 408 False\n",
      "-> 408 0 -1 408 False\n",
      "-> 408 0 -1 408 False\n",
      "-> 408 0 -1 408 False\n",
      "-> 408 0 -1 408 False\n",
      "-> 408 1 -1 308 False\n",
      "-> 308 0 -1 408 False\n",
      "-> 408 0 -1 408 False\n",
      "-> 408 0 -1 408 False\n",
      "-> 408 2 -1 408 False\n",
      "-> 408 3 -1 408 False\n",
      "-> 408 5 -10 408 False\n",
      "-> 408 0 -1 408 False\n",
      "-> 408 5 -10 408 False\n",
      "-> 408 5 -10 408 False\n",
      "-> 408 2 -1 408 False\n",
      "-> 408 0 -1 408 False\n",
      "-> 408 1 -1 308 False\n",
      "-> 308 0 -1 408 False\n",
      "-> 408 1 -1 308 False\n",
      "-> 308 0 -1 408 False\n",
      "-> 408 0 -1 408 False\n",
      "-> 408 3 -1 408 False\n",
      "-> 408 1 -1 308 False\n",
      "-> 308 0 -1 408 False\n",
      "-> 408 1 -1 308 False\n",
      "-> 308 4 -10 308 False\n",
      "-> 308 1 -1 208 False\n",
      "-> 208 0 -1 308 False\n",
      "-> 308 0 -1 408 False\n",
      "-> 408 0 -1 408 False\n",
      "-> 408 1 -1 308 False\n",
      "-> 308 0 -1 408 False\n",
      "-> 408 0 -1 408 False\n",
      "-> 408 4 -1 416 False\n",
      "-> 416 0 -1 416 False\n",
      "-> 416 0 -1 416 False\n",
      "-> 416 0 -1 416 True\n",
      "total_reward -425\n",
      "total_steps 200\n"
     ]
    }
   ],
   "source": [
    "obs,_ = env.reset()\n",
    "print(obs)\n",
    "done = False\n",
    "total_reward = 0\n",
    "step_count = 0\n",
    "while not done:\n",
    "    state = obs\n",
    "    action = epsilon_greedy_policy(state, Q, 0.5)\n",
    "    obs, reward, done, _, _ = env.step(action)\n",
    "    total_reward += reward\n",
    "    step_count += 1\n",
    "    print('->', state, action, reward, obs, done)\n",
    "    env.render()\n",
    "print('total_reward', total_reward)\n",
    "print('total_steps', step_count)"
   ]
  },
  {
   "cell_type": "markdown",
   "metadata": {},
   "source": [
    "Generar muchos episodios"
   ]
  },
  {
   "cell_type": "code",
   "execution_count": 35,
   "metadata": {},
   "outputs": [
    {
     "data": {
      "text/plain": [
       "200"
      ]
     },
     "execution_count": 35,
     "metadata": {},
     "output_type": "execute_result"
    }
   ],
   "source": [
    "max_steps = env.max_steps\n",
    "max_steps"
   ]
  },
  {
   "cell_type": "code",
   "execution_count": 36,
   "metadata": {},
   "outputs": [],
   "source": [
    "episodes = 80000"
   ]
  },
  {
   "cell_type": "code",
   "execution_count": 37,
   "metadata": {},
   "outputs": [
    {
     "data": {
      "text/plain": [
       "0.004975124378109453"
      ]
     },
     "execution_count": 37,
     "metadata": {},
     "output_type": "execute_result"
    }
   ],
   "source": [
    "alpha=1 / (max_steps+1)\n",
    "alpha"
   ]
  },
  {
   "cell_type": "code",
   "execution_count": 38,
   "metadata": {},
   "outputs": [],
   "source": [
    "gamma = 0.9"
   ]
  },
  {
   "cell_type": "code",
   "execution_count": 39,
   "metadata": {},
   "outputs": [],
   "source": [
    "epsilon =0.99"
   ]
  },
  {
   "cell_type": "code",
   "execution_count": 40,
   "metadata": {},
   "outputs": [],
   "source": [
    "rewards=[]\n",
    "steps=[]"
   ]
  },
  {
   "cell_type": "code",
   "execution_count": 41,
   "metadata": {},
   "outputs": [],
   "source": [
    "from tqdm import tqdm"
   ]
  },
  {
   "cell_type": "code",
   "execution_count": 42,
   "metadata": {},
   "outputs": [
    {
     "name": "stderr",
     "output_type": "stream",
     "text": [
      "100%|██████████| 80000/80000 [00:51<00:00, 1565.00it/s]"
     ]
    },
    {
     "name": "stdout",
     "output_type": "stream",
     "text": [
      "76902\n"
     ]
    },
    {
     "name": "stderr",
     "output_type": "stream",
     "text": [
      "\n"
     ]
    }
   ],
   "source": [
    "i = 0\n",
    "success = 0\n",
    "for i in tqdm(range(episodes)):\n",
    "    \n",
    "    total_reward = 0    \n",
    "    step_count = 0\n",
    "    obs, _ = env.reset()\n",
    "    done=False\n",
    "    while not done:\n",
    "        state = obs\n",
    "        action = epsilon_greedy_policy(state, Q, 0.1)\n",
    "        obs, reward, done, _, _ = env.step(action)\n",
    "        \n",
    "        total_reward += reward\n",
    "        step_count += 1\n",
    "        if (reward ==20):\n",
    "            success+=1\n",
    "                      \n",
    "        value = Q[state][action] + alpha*(reward + gamma*np.max(Q[obs]) - Q[state][action])\n",
    "        Q[state][action] = value\n",
    "    \n",
    "    rewards.append(total_reward)\n",
    "    steps.append(step_count)\n",
    "    i=i+1\n",
    "    if (i % 100 == 0) and (epsilon > 0.01):  \n",
    "        epsilon *= 0.999\n",
    "print(success)\n"
   ]
  },
  {
   "cell_type": "code",
   "execution_count": 43,
   "metadata": {},
   "outputs": [
    {
     "name": "stdout",
     "output_type": "stream",
     "text": [
      "96.1275 %\n"
     ]
    }
   ],
   "source": [
    "print(success/episodes*100, '%')"
   ]
  },
  {
   "cell_type": "code",
   "execution_count": 44,
   "metadata": {},
   "outputs": [],
   "source": [
    "import matplotlib.pyplot as plt\n"
   ]
  },
  {
   "cell_type": "code",
   "execution_count": 45,
   "metadata": {},
   "outputs": [
    {
     "data": {
      "image/png": "[encoded data removed]",
      "text/plain": [
       "<Figure size 1000x600 with 1 Axes>"
      ]
     },
     "metadata": {},
     "output_type": "display_data"
    }
   ],
   "source": [
    "plt.figure(figsize=(10, 6))\n",
    "plt.plot(rewards)\n",
    "plt.plot(steps)\n",
    "\n",
    "plt.show()"
   ]
  },
  {
   "cell_type": "code",
   "execution_count": 46,
   "metadata": {},
   "outputs": [
    {
     "data": {
      "text/plain": [
       "array([[ 0.00000000e+00,  0.00000000e+00,  0.00000000e+00,\n",
       "         0.00000000e+00,  0.00000000e+00,  0.00000000e+00],\n",
       "       [-2.09957809e+00, -1.71148894e+00, -2.80237415e+00,\n",
       "        -1.74359032e+00,  1.62261467e+00, -5.68296796e+00],\n",
       "       [ 5.75508261e-01,  1.74155225e+00, -3.61544421e-01,\n",
       "         1.54047472e+00,  7.71470000e+00, -2.52582521e+00],\n",
       "       ...,\n",
       "       [-7.83422644e-01,  2.65217313e+00, -7.72602659e-01,\n",
       "        -7.13765881e-01, -1.06130025e+00, -9.17792162e-01],\n",
       "       [-2.13917923e+00, -2.13576574e+00, -2.13366672e+00,\n",
       "         7.80904313e-03, -2.42696002e+00, -2.48296793e+00],\n",
       "       [ 1.87783696e-01,  1.28554772e-01,  1.90520107e-01,\n",
       "         1.43616289e+01, -1.70072919e-01, -6.39596274e-02]])"
      ]
     },
     "execution_count": 46,
     "metadata": {},
     "output_type": "execute_result"
    }
   ],
   "source": [
    "Q"
   ]
  },
  {
   "cell_type": "code",
   "execution_count": 47,
   "metadata": {},
   "outputs": [
    {
     "name": "stderr",
     "output_type": "stream",
     "text": [
      "100%|██████████| 500/500 [00:00<00:00, 6831114.01it/s]"
     ]
    },
    {
     "name": "stdout",
     "output_type": "stream",
     "text": [
      "[0.0, 1.622614668676079, 7.714699999897478, 2.9140162994735466, -5.4673861524782, 0.0, -5.5158445486323755, -4.474810138944957, -1.156780957912759, -3.631982406786238, 0.0, -3.3394569080554435, -4.9359554465899755, -4.082896878056765, -4.939894003883753, 0.0, 19.999999999999645, 2.914016299877397, 9.68299999999279, 4.348906999953599, 0.0, -0.17395169163804539, 4.733922375749364, 0.9805986876862652, -5.153321377575912, 0.0, -5.220684690457006, -3.9048756104812035, -1.7314179163959724, -4.203457371819935, 0.0, -3.8575201589358756, -4.337335950084142, -3.409502958011319, -4.447786227805109, 0.0, 13.758580104125926, -0.2020381041998589, 2.645866221939932, 0.5168265760700331, 0.0, -4.800271243483433, -2.667307469958353, -4.412278533317931, -2.0558679683012797, 0.0, -2.145876515824063, 0.24250753822191307, -2.771602994555294, -4.978209419616245, 0.0, -4.5832483722608535, -3.764627849469333, -2.537810843151693, -3.78383247770479, 0.0, 0.6671786697930473, 0.29571506739776493, 0.6433976870253744, -0.3836405426580509, 0.0, -5.071898919546701, -3.0558972174869217, -4.6543382684485985, 0.2461870325788906, 0.0, 0.24120751757332826, 4.028357983055824, -2.828044675844514, -5.200856944567687, 0.0, -4.667135529060445, -2.8254167165469015, -1.626946593089412, -2.813649962987685, 0.0, 4.348906999891311, 14.197536683464705, 4.348906999910794, 5.990853601948111, 0.0, -5.503392635097091, -4.099306553759556, -5.1916625437642345, 1.622614660452737, 0.0, 1.6226146624429836, 5.943229998622595, -4.264131183204241, -5.743430914477806, 0.0, -5.420943079284204, -3.890096379486538, -2.8700444571805037, -3.986221693984394, 0.0, 2.9140162987478235, 19.999999999999645, 2.914016299035726, 7.714699999836616, 0.0, 0.4603531821620225, 5.943229997759915, 1.6226146612686976, -5.025684355003764, 0.0, -5.051178738167479, -3.4408488615822206, 2.3793391487653945, -1.7903555767029236, 0.0, -0.9635106580722095, -3.861139653381348, -2.5997418521775884, -3.869258735282774, 0.0, 16.999999999999325, 4.348906999993873, 11.869999999999116, 5.943229999997242, 0.0, -0.5856829075006611, 4.34890685467083, 0.4603527986769688, -4.1510193329801774, 0.0, -4.223203571875121, -2.0971865618966663, 1.135810740252806, -2.6700002171207533, 0.0, -1.9800142707442006, -2.7488039077681075, -1.2242822777877573, -2.8443528640585147, 0.0, 13.338282420203532, 5.1639773369852255, 7.762492111363707, 6.741319813456079, 0.0, -3.458295394473894, -0.07107098912399866, -2.744265988299052, -1.527217831956695, 0.0, -2.2236145506353497, 0.5026274783373995, -0.07277185605785012, -3.469128960284032, 0.0, -2.789832003542893, -2.0185357637977215, -0.05136846553537203, -2.0142863470916774, 0.0, 6.846478273486826, 6.622220567726458, 6.7933656510399905, 7.775436368666301, 0.0, -3.985645768455775, -0.7917104990766216, -3.3024183591705145, -0.5856853042995357, 0.0, -0.5856854992658765, 2.914015051625102, -0.8408202285511087, -3.9754891677488047, 0.0, -3.3196998124055015, -0.6499985972451432, 1.1835462386851074, -0.6655197654440186, 0.0, 5.943229999995495, 14.142056997738104, 5.943229999996395, 11.869999999999107, 0.0, -5.090699120156057, -2.7223852677020925, -4.550593139883364, 0.4603530785713108, 0.0, 0.4603530980031151, 4.348906974749103, -3.2778137927998334, -5.160897535258672, 0.0, -4.7987674532445785, -2.2992983002796814, -0.768123455922673, -2.4344327248265776, 0.0, 1.9988417544339114, 16.999999999999325, 2.0742684760669285, 9.682999999987615, 0.0, -0.6839456353196923, 4.200559558850375, 0.3558679747755938, -3.9711895986649646, 0.0, -3.977680549054815, -1.6967586697745638, 4.348906977852792, -0.5856822273736242, 0.0, 0.460353106291343, -2.449107975884421, -0.6943096778282936, -2.4522513428240376, 0.0, 14.299999999999216, 5.943229999999044, 14.299999999999216, 7.714699999999036, 0.0, -1.5271239862406856, 2.914014178296839, -0.585686976022147, -3.145633077246513, 0.0, -3.145318101776054, -0.5908190885513298, 2.914015911977729, -1.5271155769343225, 0.0, -0.5856834493228282, -1.52810231335714, 0.45884191036653926, -1.5284788172956307, 0.0, 11.869999999999116, 7.714699999999036, 11.869999999999116, 9.682999999999028, 0.0, -2.3745417888793763, 1.622577117146178, -1.5271890419129368, -2.3753141510514433, 0.0, -2.3751407765007135, 0.4599612738771343, 1.62259178801002, -2.3744591016763787, 0.0, -1.5271637496843133, -0.5856928344925559, 1.6226007671510045, -0.5856984607191081, 0.0, 9.682999999999028, 9.682999999999028, 9.682999999999028, 11.869999999999116, 0.0, -3.141072098149898, 0.45839475608312574, -2.3772246357365043, -1.679518425032976, 0.0, -1.5271678062298455, 1.6225920094365855, 0.4582039985061522, -3.13964426270943, 0.0, -2.3770111300214207, 0.46035307894022226, 2.9140161729905962, 0.4603530105954389, 0.0, 7.714699999999036, 11.869999999999116, 7.714699999999036, 14.299999999999216, 0.0, -4.495725250239524, -1.7871811009054084, -3.9136935363745753, -0.7054900616520801, 0.0, -0.6818917159019802, 2.7684740743382963, -1.994851165082865, -4.615815201193577, 0.0, -4.070008020574612, -1.3468916649659184, 1.4160958637864012, -1.3975116263162637, 0.0, 3.2371798422922247, 14.299999999999216, 3.3612242178156624, 10.482853193306012, 0.0, -2.252041783279491, 1.5811510478739819, -1.429024714622396, -5.070432327194094, 0.0, -5.043327024949126, -3.3921536122537144, 5.9432299980613275, 0.4603531906232859, 0.0, 1.6226146604487153, -3.8323457719454717, -2.5731480466960406, -3.8805806226262893, 0.0, 11.869999999999116, 4.3489069999967, 16.999999999999325, 5.943229999997229, 0.0, -2.6728670468974327, 1.1131384289753683, -1.852683819730102, -4.272909542491636, 0.0, -4.280242886654136, -2.0719545739061442, 1.0323538104918448, -2.7386475878151426, 0.0, -1.887752406391033, -2.834968892812785, -1.2451153385766276, -2.9249455373001205, 0.0, 6.563212784333031, 3.1614861656068425, 6.4351377195649055, 4.985538391059641, 0.0, -3.4639784598516665, -0.13655946167271743, -2.756218488515937, -3.5129281736812987, 0.0, -3.479811263286169, -1.147786212680198, -0.08862689240371055, -3.5325372631960845, 0.0, -2.783829981772064, -1.9370289493061879, -0.08743480719281822, -1.913346925155136, 0.0, 4.8042957664497195, 4.429379875135777, 4.795397023977603, 6.618221956296663, 0.0, -3.992222293770588, -0.8133951480700697, -3.2996778465099372, -3.1243832328269523, 0.0, -2.7557580793587015, -0.10679821890804028, -0.7885510481973659, -3.983051780804401, 0.0, -3.3131730645233723, 1.62261466347992, 4.348906992077722, 1.6226146589289574, 0.0, 5.943229999998419, 9.682999999998124, 5.943229999997961, 16.999999999999325, 0.0, -5.096768036455543, -2.7388343102360264, -4.542171369739727, -2.2748093681573995, 0.0, -2.2662354414191466, 0.3848007579001152, -2.7907469254983863, -5.198548051618666, 0.0, -4.669612813731786, -0.5715033578653663, 1.7274751595399789, -0.5117583185657304, 0.0, 0.8393707256581985, 11.088143583163049, 0.3252334051295188, 11.789108066007923, 0.0, -3.8803711751946297, -1.6801914185291442, -3.377557809672124, -5.677115480960092, 0.0, -5.638423565334751, -4.5702663107250725, 7.714699999852727, 1.6226146689345748, 0.0, 2.914016299112157, -5.022098319881364, -4.170061586344112, -5.062140762331663, 0.0, 9.682999999990841, 2.9140162999204957, 19.999999999999645, 4.348906999932344, 0.0, -4.20067695520835, -1.835101673108414, -3.6457064648176427, -5.060302608479203, 0.0, -5.093873811588955, -3.713653348296568, -2.046424603993219, -4.496574979531464, 0.0, -3.920210645342012, -4.326802925451179, -3.30774734135739, -4.425058972584055, 0.0, -0.4980670745336933, -0.9846884904339638, -0.7541863070361249, -0.6612891369685875, 0.0, -4.666290996492449, -2.6548089396193295, -4.203836079877959, -4.711953617334696, 0.0, -4.704085132873302, -3.267042208874008, -2.6982704654693443, -4.834088252539661, 0.0, -4.418168638930743, -3.873606036241526, -2.614494720029624, -3.8963146586425013, 0.0, -0.5928863916678043, -0.937610099095827, -0.7372869009773482, -0.6508320550993235, 0.0, -5.139316063351572, -3.2695172243792165, -4.718482907263608, -4.270239678948926, 0.0, -4.16040437086928, -2.42669168696879, -3.18472198079935, -5.237938050591997, 0.0, -4.878369980592676, 2.9140162996344867, 5.9432299995293745, 2.914016299412645, 0.0, 4.348906999974211, 7.714699999960589, 4.34890699995729, 19.999999999999645, 0.0, -5.5898179546943485, -4.18343337852291, -5.255049505444099, -3.9078638909859547, 0.0, -3.9360446140981455, -2.3538705602240633, -4.2912012380114675, -5.790330906396118, 0.0, -5.494324965727451, 0.6509153671503728, 2.8878155120705777, 0.6723744096273913, 0.0, -0.08666582436582168, 2.6521731318486275, 0.007809043133732265, 14.361628922988324]\n"
     ]
    },
    {
     "name": "stderr",
     "output_type": "stream",
     "text": [
      "\n"
     ]
    }
   ],
   "source": [
    "policy=[]\n",
    "for i in tqdm(range(states)):\n",
    "    policy.append(max(Q[i]))\n",
    "\n",
    "print(policy)\n"
   ]
  },
  {
   "cell_type": "code",
   "execution_count": 48,
   "metadata": {},
   "outputs": [],
   "source": [
    "rewards_testing=[]\n",
    "steps_testing=[]"
   ]
  },
  {
   "cell_type": "code",
   "execution_count": 49,
   "metadata": {},
   "outputs": [
    {
     "name": "stdout",
     "output_type": "stream",
     "text": [
      "episode: 1\n",
      "-> total reward:  4\n",
      "-> total steps:  17\n",
      "episode: 2\n",
      "-> total reward:  12\n",
      "-> total steps:  9\n",
      "episode: 3\n",
      "-> total reward:  -1\n",
      "-> total steps:  13\n",
      "episode: 4\n",
      "-> total reward:  4\n",
      "-> total steps:  17\n",
      "episode: 5\n",
      "-> total reward:  9\n",
      "-> total steps:  12\n",
      "episode: 6\n",
      "-> total reward:  2\n",
      "-> total steps:  10\n",
      "episode: 7\n",
      "-> total reward:  5\n",
      "-> total steps:  16\n",
      "episode: 8\n",
      "-> total reward:  2\n",
      "-> total steps:  19\n",
      "episode: 9\n",
      "-> total reward:  11\n",
      "-> total steps:  10\n",
      "episode: 10\n",
      "-> total reward:  -2\n",
      "-> total steps:  14\n"
     ]
    }
   ],
   "source": [
    "i = 0\n",
    "while i< 10:\n",
    "    print(\"episode:\", i+1)\n",
    "    obs,_ = env.reset()\n",
    "    done = False\n",
    "    total_reward = 0\n",
    "    step_count = 0\n",
    "    while not done:\n",
    "        state = obs\n",
    "        action = epsilon_greedy_policy(state, Q)\n",
    "        obs, reward, done, _, _ = env.step(action)\n",
    "        total_reward += reward\n",
    "        step_count += 1\n",
    "        env.render()\n",
    "    i+=1\n",
    "    rewards_testing.append(total_reward)\n",
    "    steps_testing.append(step_count)\n",
    "    print('-> total reward: ', total_reward)\n",
    "    print('-> total steps: ', step_count)"
   ]
  },
  {
   "cell_type": "code",
   "execution_count": 50,
   "metadata": {},
   "outputs": [
    {
     "data": {
      "text/plain": [
       "[17, 9, 13, 17, 12, 10, 16, 19, 10, 14]"
      ]
     },
     "execution_count": 50,
     "metadata": {},
     "output_type": "execute_result"
    }
   ],
   "source": [
    "steps_testing"
   ]
  },
  {
   "cell_type": "code",
   "execution_count": 51,
   "metadata": {},
   "outputs": [
    {
     "data": {
      "text/plain": [
       "[4, 12, -1, 4, 9, 2, 5, 2, 11, -2]"
      ]
     },
     "execution_count": 51,
     "metadata": {},
     "output_type": "execute_result"
    }
   ],
   "source": [
    "rewards_testing"
   ]
  },
  {
   "cell_type": "code",
   "execution_count": 52,
   "metadata": {},
   "outputs": [
    {
     "data": {
      "text/plain": [
       "[<matplotlib.lines.Line2D at 0x2851e65a810>]"
      ]
     },
     "execution_count": 52,
     "metadata": {},
     "output_type": "execute_result"
    },
    {
     "data": {
      "image/png": "[encoded data removed]",
      "text/plain": [
       "<Figure size 1000x600 with 1 Axes>"
      ]
     },
     "metadata": {},
     "output_type": "display_data"
    }
   ],
   "source": [
    "# Plot steps\n",
    "plt.figure(figsize=(10, 6))\n",
    "plt.plot(steps_testing, color='blue', label='Episode steps')"
   ]
  },
  {
   "cell_type": "code",
   "execution_count": 53,
   "metadata": {},
   "outputs": [
    {
     "data": {
      "text/plain": [
       "[<matplotlib.lines.Line2D at 0x2851e659dc0>]"
      ]
     },
     "execution_count": 53,
     "metadata": {},
     "output_type": "execute_result"
    },
    {
     "data": {
      "image/png": "[encoded data removed]",
      "text/plain": [
       "<Figure size 1000x600 with 1 Axes>"
      ]
     },
     "metadata": {},
     "output_type": "display_data"
    }
   ],
   "source": [
    "# Plot rewards\n",
    "plt.figure(figsize=(10, 6))\n",
    "plt.plot(rewards_testing, color='blue', label='Episode steps')"
   ]
  },
  {
   "cell_type": "code",
   "execution_count": 54,
   "metadata": {},
   "outputs": [
    {
     "name": "stdout",
     "output_type": "stream",
     "text": [
      "average steps:  13.7\n",
      "Average rewards:  4.6\n"
     ]
    }
   ],
   "source": [
    "average_steps = np.mean(steps_testing)\n",
    "print(\"average steps: \", average_steps)\n",
    "average_rewards = np.mean(rewards_testing)\n",
    "print(\"Average rewards: \", average_rewards)"
   ]
  }
 ],
 "metadata": {
  "kernelspec": {
   "display_name": "Python 3",
   "language": "python",
   "name": "python3"
  },
  "language_info": {
   "codemirror_mode": {
    "name": "ipython",
    "version": 3
   },
   "file_extension": ".py",
   "mimetype": "text/x-python",
   "name": "python",
   "nbconvert_exporter": "python",
   "pygments_lexer": "ipython3",
   "version": "3.12.0"
  },
  "orig_nbformat": 4
 },
 "nbformat": 4,
 "nbformat_minor": 2
}
