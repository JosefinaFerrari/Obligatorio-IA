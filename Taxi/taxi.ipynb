{
 "cells": [
  {
   "cell_type": "markdown",
   "metadata": {},
   "source": [
    "Esta notebook contiene bloques de código útiles para realizar Q-learning en el entorno \"Taxi\""
   ]
  },
  {
   "cell_type": "code",
   "execution_count": 1,
   "metadata": {},
   "outputs": [],
   "source": [
    "import numpy as np\n",
    "import random\n",
    "from taxi_env_extended import TaxiEnvExtended"
   ]
  },
  {
   "cell_type": "code",
   "execution_count": 2,
   "metadata": {},
   "outputs": [],
   "source": [
    "env = TaxiEnvExtended()"
   ]
  },
  {
   "cell_type": "markdown",
   "metadata": {},
   "source": [
    "Obtener la cantidad de estados y acciones"
   ]
  },
  {
   "cell_type": "code",
   "execution_count": 3,
   "metadata": {},
   "outputs": [],
   "source": [
    "actions = env.action_space.n\n",
    "states = env.observation_space.n"
   ]
  },
  {
   "cell_type": "markdown",
   "metadata": {},
   "source": [
    "Inicialización de la tabla Q"
   ]
  },
  {
   "cell_type": "code",
   "execution_count": 4,
   "metadata": {},
   "outputs": [
    {
     "data": {
      "text/plain": [
       "array([[0., 0., 0., 0., 0., 0.],\n",
       "       [0., 0., 0., 0., 0., 0.],\n",
       "       [0., 0., 0., 0., 0., 0.],\n",
       "       ...,\n",
       "       [0., 0., 0., 0., 0., 0.],\n",
       "       [0., 0., 0., 0., 0., 0.],\n",
       "       [0., 0., 0., 0., 0., 0.]])"
      ]
     },
     "execution_count": 4,
     "metadata": {},
     "output_type": "execute_result"
    }
   ],
   "source": [
    "Q = np.zeros((states, actions))\n",
    "Q"
   ]
  },
  {
   "cell_type": "markdown",
   "metadata": {},
   "source": [
    "Obtención de la acción a partir de la tabla Q"
   ]
  },
  {
   "cell_type": "code",
   "execution_count": 5,
   "metadata": {},
   "outputs": [],
   "source": [
    "def optimal_policy(state, Q):\n",
    "    action = np.argmax(Q[state])\n",
    "    return action"
   ]
  },
  {
   "cell_type": "markdown",
   "metadata": {},
   "source": [
    "Epsilon-Greedy Policy"
   ]
  },
  {
   "cell_type": "code",
   "execution_count": 6,
   "metadata": {},
   "outputs": [],
   "source": [
    "def epsilon_greedy_policy(state, Q, epsilon=0.1):\n",
    "    explore = np.random.binomial(1, epsilon)\n",
    "    if explore:\n",
    "        action = env.action_space.sample()\\\n",
    "    \n",
    "    else: # exploit\n",
    "        action = np.argmax(Q[state])\\\n",
    "        \n",
    "    return action"
   ]
  },
  {
   "cell_type": "markdown",
   "metadata": {},
   "source": [
    "Ejemplo de episodio "
   ]
  },
  {
   "cell_type": "code",
   "execution_count": 7,
   "metadata": {},
   "outputs": [
    {
     "name": "stdout",
     "output_type": "stream",
     "text": [
      "424\n",
      "-> 424 5 -10 424 False\n",
      "-> 424 0 -1 424 False\n",
      "-> 424 0 -1 424 False\n",
      "-> 424 5 -10 424 False\n",
      "-> 424 0 -1 424 False\n",
      "-> 424 4 -10 424 False\n",
      "-> 424 3 -1 424 False\n",
      "-> 424 0 -1 424 False\n",
      "-> 424 0 -1 424 False\n",
      "-> 424 0 -1 424 False\n",
      "-> 424 0 -1 424 False\n",
      "-> 424 1 -1 324 False\n",
      "-> 324 0 -1 424 False\n",
      "-> 424 0 -1 424 False\n",
      "-> 424 1 -1 324 False\n",
      "-> 324 0 -1 424 False\n",
      "-> 424 5 -10 424 False\n",
      "-> 424 4 -10 424 False\n",
      "-> 424 0 -1 424 False\n",
      "-> 424 2 -1 444 False\n",
      "-> 444 0 -1 444 False\n",
      "-> 444 0 -1 444 False\n",
      "-> 444 0 -1 444 False\n",
      "-> 444 0 -1 444 False\n",
      "-> 444 0 -1 444 False\n",
      "-> 444 2 -1 444 False\n",
      "-> 444 0 -1 444 False\n",
      "-> 444 0 -1 444 False\n",
      "-> 444 1 -1 344 False\n",
      "-> 344 3 -1 324 False\n",
      "-> 324 0 -1 424 False\n",
      "-> 424 0 -1 424 False\n",
      "-> 424 3 -1 424 False\n",
      "-> 424 5 -10 424 False\n",
      "-> 424 0 -1 424 False\n",
      "-> 424 0 -1 424 False\n",
      "-> 424 0 -1 424 False\n",
      "-> 424 0 -1 424 False\n",
      "-> 424 5 -10 424 False\n",
      "-> 424 0 -1 424 False\n",
      "-> 424 3 -1 424 False\n",
      "-> 424 0 -1 424 False\n",
      "-> 424 5 -10 424 False\n",
      "-> 424 2 -1 444 False\n",
      "-> 444 0 -1 444 False\n",
      "-> 444 5 -10 444 False\n",
      "-> 444 4 -10 444 False\n",
      "-> 444 0 -1 444 False\n",
      "-> 444 4 -10 444 False\n",
      "-> 444 0 -1 444 False\n",
      "-> 444 0 -1 444 False\n",
      "-> 444 1 -1 344 False\n",
      "-> 344 0 -1 444 False\n",
      "-> 444 0 -1 444 False\n",
      "-> 444 0 -1 444 False\n",
      "-> 444 1 -1 344 False\n",
      "-> 344 5 -10 344 False\n",
      "-> 344 0 -1 444 False\n",
      "-> 444 0 -1 444 False\n",
      "-> 444 0 -1 444 False\n",
      "-> 444 5 -10 444 False\n",
      "-> 444 2 -1 444 False\n",
      "-> 444 0 -1 444 False\n",
      "-> 444 0 -1 444 False\n",
      "-> 444 1 -1 344 False\n",
      "-> 344 5 -10 344 False\n",
      "-> 344 0 -1 444 False\n",
      "-> 444 5 -10 444 False\n",
      "-> 444 0 -1 444 False\n",
      "-> 444 0 -1 444 False\n",
      "-> 444 3 -1 424 False\n",
      "-> 424 5 -10 424 False\n",
      "-> 424 2 -1 444 False\n",
      "-> 444 5 -10 444 False\n",
      "-> 444 2 -1 444 False\n",
      "-> 444 0 -1 444 False\n",
      "-> 444 4 -10 444 False\n",
      "-> 444 3 -1 424 False\n",
      "-> 424 4 -10 424 False\n",
      "-> 424 2 -1 444 False\n",
      "-> 444 0 -1 444 False\n",
      "-> 444 1 -1 344 False\n",
      "-> 344 1 -1 244 False\n",
      "-> 244 0 -1 344 False\n",
      "-> 344 1 -1 244 False\n",
      "-> 244 0 -1 344 False\n",
      "-> 344 0 -1 444 False\n",
      "-> 444 0 -1 444 False\n",
      "-> 444 3 -1 424 False\n",
      "-> 424 3 -1 424 False\n",
      "-> 424 0 -1 424 False\n",
      "-> 424 0 -1 424 False\n",
      "-> 424 0 -1 424 False\n",
      "-> 424 1 -1 324 False\n",
      "-> 324 0 -1 424 False\n",
      "-> 424 0 -1 424 False\n",
      "-> 424 0 -1 424 False\n",
      "-> 424 4 -10 424 False\n",
      "-> 424 0 -1 424 False\n",
      "-> 424 0 -1 424 False\n",
      "-> 424 0 -1 424 False\n",
      "-> 424 0 -1 424 False\n",
      "-> 424 0 -1 424 False\n",
      "-> 424 0 -1 424 False\n",
      "-> 424 3 -1 424 False\n",
      "-> 424 0 -1 424 False\n",
      "-> 424 4 -10 424 False\n",
      "-> 424 0 -1 424 False\n",
      "-> 424 0 -1 424 False\n",
      "-> 424 0 -1 424 False\n",
      "-> 424 0 -1 424 False\n",
      "-> 424 3 -1 424 False\n",
      "-> 424 0 -1 424 False\n",
      "-> 424 0 -1 424 False\n",
      "-> 424 0 -1 424 False\n",
      "-> 424 0 -1 424 False\n",
      "-> 424 4 -10 424 False\n",
      "-> 424 5 -10 424 False\n",
      "-> 424 3 -1 424 False\n",
      "-> 424 0 -1 424 False\n",
      "-> 424 0 -1 424 False\n",
      "-> 424 5 -10 424 False\n",
      "-> 424 0 -1 424 False\n",
      "-> 424 4 -10 424 False\n",
      "-> 424 0 -1 424 False\n",
      "-> 424 0 -1 424 False\n",
      "-> 424 4 -10 424 False\n",
      "-> 424 3 -1 424 False\n",
      "-> 424 0 -1 424 False\n",
      "-> 424 0 -1 424 False\n",
      "-> 424 0 -1 424 False\n",
      "-> 424 3 -1 424 False\n",
      "-> 424 5 -10 424 False\n",
      "-> 424 0 -1 424 False\n",
      "-> 424 3 -1 424 False\n",
      "-> 424 0 -1 424 False\n",
      "-> 424 0 -1 424 False\n",
      "-> 424 0 -1 424 False\n",
      "-> 424 0 -1 424 False\n",
      "-> 424 1 -1 324 False\n",
      "-> 324 5 -10 324 False\n",
      "-> 324 0 -1 424 False\n",
      "-> 424 4 -10 424 False\n",
      "-> 424 5 -10 424 False\n",
      "-> 424 3 -1 424 False\n",
      "-> 424 0 -1 424 False\n",
      "-> 424 1 -1 324 False\n",
      "-> 324 2 -1 344 False\n",
      "-> 344 0 -1 444 False\n",
      "-> 444 0 -1 444 False\n",
      "-> 444 0 -1 444 False\n",
      "-> 444 2 -1 444 False\n",
      "-> 444 4 -10 444 False\n",
      "-> 444 4 -10 444 False\n",
      "-> 444 0 -1 444 False\n",
      "-> 444 2 -1 444 False\n",
      "-> 444 0 -1 444 False\n",
      "-> 444 5 -10 444 False\n",
      "-> 444 0 -1 444 False\n",
      "-> 444 3 -1 424 False\n",
      "-> 424 2 -1 444 False\n",
      "-> 444 3 -1 424 False\n",
      "-> 424 5 -10 424 False\n",
      "-> 424 3 -1 424 False\n",
      "-> 424 4 -10 424 False\n",
      "-> 424 2 -1 444 False\n",
      "-> 444 3 -1 424 False\n",
      "-> 424 0 -1 424 False\n",
      "-> 424 0 -1 424 False\n",
      "-> 424 0 -1 424 False\n",
      "-> 424 0 -1 424 False\n",
      "-> 424 0 -1 424 False\n",
      "-> 424 0 -1 424 False\n",
      "-> 424 2 -1 444 False\n",
      "-> 444 0 -1 444 False\n",
      "-> 444 0 -1 444 False\n",
      "-> 444 0 -1 444 False\n",
      "-> 444 0 -1 444 False\n",
      "-> 444 0 -1 444 False\n",
      "-> 444 0 -1 444 False\n",
      "-> 444 0 -1 444 False\n",
      "-> 444 0 -1 444 False\n",
      "-> 444 0 -1 444 False\n",
      "-> 444 1 -1 344 False\n",
      "-> 344 2 -1 344 False\n",
      "-> 344 4 -10 344 False\n",
      "-> 344 2 -1 344 False\n",
      "-> 344 0 -1 444 False\n",
      "-> 444 1 -1 344 False\n",
      "-> 344 4 -10 344 False\n",
      "-> 344 0 -1 444 False\n",
      "-> 444 0 -1 444 False\n",
      "-> 444 2 -1 444 False\n",
      "-> 444 0 -1 444 False\n",
      "-> 444 0 -1 444 False\n",
      "-> 444 5 -10 444 False\n",
      "-> 444 0 -1 444 False\n",
      "-> 444 2 -1 444 False\n",
      "-> 444 3 -1 424 False\n",
      "-> 424 0 -1 424 True\n",
      "total_reward -542\n",
      "total_steps 200\n"
     ]
    }
   ],
   "source": [
    "obs,_ = env.reset()\n",
    "print(obs)\n",
    "done = False\n",
    "total_reward = 0\n",
    "step_count = 0\n",
    "while not done:\n",
    "    state = obs\n",
    "    action = epsilon_greedy_policy(state, Q, 0.5)\n",
    "    obs, reward, done, _, _ = env.step(action)\n",
    "    total_reward += reward\n",
    "    step_count += 1\n",
    "    print('->', state, action, reward, obs, done)\n",
    "    env.render()\n",
    "print('total_reward', total_reward)\n",
    "print('total_steps', step_count)"
   ]
  },
  {
   "cell_type": "markdown",
   "metadata": {},
   "source": [
    "Generar muchos episodios"
   ]
  },
  {
   "cell_type": "code",
   "execution_count": 8,
   "metadata": {},
   "outputs": [
    {
     "data": {
      "text/plain": [
       "200"
      ]
     },
     "execution_count": 8,
     "metadata": {},
     "output_type": "execute_result"
    }
   ],
   "source": [
    "max_steps = env.max_steps\n",
    "max_steps"
   ]
  },
  {
   "cell_type": "code",
   "execution_count": 9,
   "metadata": {},
   "outputs": [],
   "source": [
    "episodes = 50000"
   ]
  },
  {
   "cell_type": "code",
   "execution_count": 10,
   "metadata": {},
   "outputs": [
    {
     "data": {
      "text/plain": [
       "0.004975124378109453"
      ]
     },
     "execution_count": 10,
     "metadata": {},
     "output_type": "execute_result"
    }
   ],
   "source": [
    "alpha=1 / (max_steps+1)\n",
    "alpha"
   ]
  },
  {
   "cell_type": "code",
   "execution_count": 11,
   "metadata": {},
   "outputs": [],
   "source": [
    "gamma = 0.9"
   ]
  },
  {
   "cell_type": "code",
   "execution_count": 12,
   "metadata": {},
   "outputs": [],
   "source": [
    "epsilon =0.99"
   ]
  },
  {
   "cell_type": "code",
   "execution_count": 13,
   "metadata": {},
   "outputs": [],
   "source": [
    "rewards=[]\n",
    "steps=[]"
   ]
  },
  {
   "cell_type": "code",
   "execution_count": 14,
   "metadata": {},
   "outputs": [],
   "source": [
    "from tqdm import tqdm"
   ]
  },
  {
   "cell_type": "code",
   "execution_count": 15,
   "metadata": {},
   "outputs": [
    {
     "name": "stderr",
     "output_type": "stream",
     "text": [
      "100%|██████████| 50000/50000 [00:44<00:00, 1123.89it/s]"
     ]
    },
    {
     "name": "stdout",
     "output_type": "stream",
     "text": [
      "46891\n"
     ]
    },
    {
     "name": "stderr",
     "output_type": "stream",
     "text": [
      "\n"
     ]
    }
   ],
   "source": [
    "i = 0\n",
    "success = 0\n",
    "for i in tqdm(range(episodes)):\n",
    "    \n",
    "    total_reward = 0    \n",
    "    step_count = 0\n",
    "    obs, _ = env.reset()\n",
    "    done=False\n",
    "    while not done:\n",
    "        state = obs\n",
    "        action = epsilon_greedy_policy(state, Q, 0.1)\n",
    "        obs, reward, done, _, _ = env.step(action)\n",
    "        \n",
    "        total_reward += reward\n",
    "        step_count += 1\n",
    "        if (reward ==20):\n",
    "            success+=1\n",
    "                      \n",
    "        value = Q[state][action] + alpha*(reward + gamma*np.max(Q[obs]) - Q[state][action])\n",
    "        Q[state][action] = value\n",
    "    \n",
    "    rewards.append(total_reward)\n",
    "    steps.append(step_count)\n",
    "    i=i+1\n",
    "    if (i % 100 == 0) and (epsilon > 0.1):  # Use logical AND operator \"and\"\n",
    "        epsilon *= 0.999\n",
    "print(success)\n"
   ]
  },
  {
   "cell_type": "code",
   "execution_count": 21,
   "metadata": {},
   "outputs": [
    {
     "name": "stdout",
     "output_type": "stream",
     "text": [
      "93.782 %\n"
     ]
    }
   ],
   "source": [
    "print(success/episodes*100, '%')"
   ]
  },
  {
   "cell_type": "code",
   "execution_count": 22,
   "metadata": {},
   "outputs": [],
   "source": [
    "import matplotlib.pyplot as plt\n"
   ]
  },
  {
   "cell_type": "code",
   "execution_count": 23,
   "metadata": {},
   "outputs": [
    {
     "data": {
      "image/png": "[encoded data removed]",
      "text/plain": [
       "<Figure size 1000x600 with 1 Axes>"
      ]
     },
     "metadata": {},
     "output_type": "display_data"
    }
   ],
   "source": [
    "plt.figure(figsize=(10, 6))\n",
    "plt.plot(rewards)\n",
    "plt.plot(steps)\n",
    "\n",
    "plt.show()"
   ]
  },
  {
   "cell_type": "code",
   "execution_count": 19,
   "metadata": {},
   "outputs": [
    {
     "data": {
      "text/plain": [
       "array([[ 0.        ,  0.        ,  0.        ,  0.        ,  0.        ,\n",
       "         0.        ],\n",
       "       [-2.65035152, -2.35960496, -3.09721167, -2.33108743,  1.62245616,\n",
       "        -4.85892535],\n",
       "       [-0.14470187,  0.13941259, -1.29805307, -0.0132227 ,  7.71468069,\n",
       "        -2.35072165],\n",
       "       ...,\n",
       "       [-0.81615576,  0.57267167, -0.80626798, -0.7760634 , -0.88647616,\n",
       "        -0.83917928],\n",
       "       [-2.23734818, -2.23375252, -2.23744828, -1.0743083 , -2.35060802,\n",
       "        -2.43790689],\n",
       "       [ 0.01071755,  0.06064684,  0.04393152, 10.17657134, -0.1637371 ,\n",
       "        -0.0875752 ]])"
      ]
     },
     "execution_count": 19,
     "metadata": {},
     "output_type": "execute_result"
    }
   ],
   "source": [
    "Q"
   ]
  },
  {
   "cell_type": "code",
   "execution_count": 24,
   "metadata": {},
   "outputs": [
    {
     "name": "stdout",
     "output_type": "stream",
     "text": [
      "episode: 1\n",
      "total_reward 6\n",
      "total_steps 15\n",
      "episode: 2\n",
      "total_reward 10\n",
      "total_steps 11\n",
      "episode: 3\n",
      "total_reward 5\n",
      "total_steps 16\n",
      "episode: 4\n",
      "total_reward -6\n",
      "total_steps 18\n",
      "episode: 5\n",
      "total_reward -2\n",
      "total_steps 14\n"
     ]
    }
   ],
   "source": [
    "i = 0\n",
    "while i< 10:\n",
    "    print(\"episode:\", i+1)\n",
    "    obs,_ = env.reset()\n",
    "    done = False\n",
    "    total_reward = 0\n",
    "    step_count = 0\n",
    "    while not done:\n",
    "        state = obs\n",
    "        action = epsilon_greedy_policy(state, Q)\n",
    "        obs, reward, done, _, _ = env.step(action)\n",
    "        total_reward += reward\n",
    "        step_count += 1\n",
    "        env.render()\n",
    "    i+=1\n",
    "    print('total_reward', total_reward)\n",
    "    print('total_steps', step_count)"
   ]
  }
 ],
 "metadata": {
  "kernelspec": {
   "display_name": "Python 3",
   "language": "python",
   "name": "python3"
  },
  "language_info": {
   "codemirror_mode": {
    "name": "ipython",
    "version": 3
   },
   "file_extension": ".py",
   "mimetype": "text/x-python",
   "name": "python",
   "nbconvert_exporter": "python",
   "pygments_lexer": "ipython3",
   "version": "3.12.0"
  },
  "orig_nbformat": 4
 },
 "nbformat": 4,
 "nbformat_minor": 2
}
